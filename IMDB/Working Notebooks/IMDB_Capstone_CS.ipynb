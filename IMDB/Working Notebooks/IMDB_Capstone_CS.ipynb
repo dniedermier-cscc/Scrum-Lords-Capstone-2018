{
 "cells": [
  {
   "cell_type": "markdown",
   "metadata": {},
   "source": [
    "# Table of Contents\n",
    "\n",
    "* [Data Sources](#Data-Sources)\n",
    "* [Gather the Data](#Gather-the-Data)\n",
    "* [Explore the Data](#Explore-the-Data)\n",
    "    * [Merge the titleBasics and titleRatings Data](#Merge-the-titleBasics-and-titleRatings-Data)\n",
    "    * [Explore titleType From titleBasics](#Explore-titleType-From-titleBasics)\n",
    "    * [Explore Rows with Null Data](#Explore-Rows-with-Null-Data)\n",
    "    * [Determine What Timeframe to Include](#Determine-What-Timeframe-to-Include)\n",
    "    * [Determine What Genres to Include](#Determine-What-Genres-to-Include)\n",
    "    * [Determine the Target Average Rating](#Determine-the-Target-Average-Rating)\n",
    "* [Model the Data](#Model-the-Data)\n",
    "* [Visualize the Results](#Visualize-the-Results)\n",
    "\n",
    "\n",
    "<hr>"
   ]
  },
  {
   "cell_type": "markdown",
   "metadata": {},
   "source": [
    "## Data Sources\n",
    "\n",
    "Description of the IMDB data: https://www.imdb.com/interfaces/\n",
    "\n",
    "IMDB Data Sources: https://datasets.imdbws.com/"
   ]
  },
  {
   "cell_type": "markdown",
   "metadata": {},
   "source": [
    "<hr>\n",
    "\n",
    "## Gather the Data"
   ]
  },
  {
   "cell_type": "code",
   "execution_count": 40,
   "metadata": {},
   "outputs": [],
   "source": [
    "%matplotlib inline"
   ]
  },
  {
   "cell_type": "code",
   "execution_count": 1,
   "metadata": {},
   "outputs": [],
   "source": [
    "import numpy as np\n",
    "import pandas as pd\n",
    "import seaborn as sns\n",
    "import matplotlib.pyplot as plt\n",
    "import statsmodels.api as sm"
   ]
  },
  {
   "cell_type": "code",
   "execution_count": 41,
   "metadata": {},
   "outputs": [],
   "source": [
    "sns.set(rc={'figure.figsize': (12, 10), \"lines.markeredgewidth\": 0.5 })"
   ]
  },
  {
   "cell_type": "code",
   "execution_count": 2,
   "metadata": {},
   "outputs": [
    {
     "data": {
      "text/html": [
       "\n",
       "        <iframe\n",
       "            width=\"800\"\n",
       "            height=\"600\"\n",
       "            src=\"../IMDB Dataset Descriptions.pdf\"\n",
       "            frameborder=\"0\"\n",
       "            allowfullscreen\n",
       "        ></iframe>\n",
       "        "
      ],
      "text/plain": [
       "<IPython.lib.display.IFrame at 0x1f23750bf60>"
      ]
     },
     "execution_count": 2,
     "metadata": {},
     "output_type": "execute_result"
    }
   ],
   "source": [
    "# display imdb documentation in the notebook\n",
    "from IPython.display import IFrame\n",
    "IFrame(\"../IMDB Dataset Descriptions.pdf\", 800, 600)"
   ]
  },
  {
   "cell_type": "code",
   "execution_count": 3,
   "metadata": {},
   "outputs": [
    {
     "data": {
      "text/html": [
       "\n",
       "        <iframe\n",
       "            width=\"800\"\n",
       "            height=\"600\"\n",
       "            src=\"../../Presentation/IMDB ERD.pdf\"\n",
       "            frameborder=\"0\"\n",
       "            allowfullscreen\n",
       "        ></iframe>\n",
       "        "
      ],
      "text/plain": [
       "<IPython.lib.display.IFrame at 0x1f23750beb8>"
      ]
     },
     "execution_count": 3,
     "metadata": {},
     "output_type": "execute_result"
    }
   ],
   "source": [
    "# display imdb ER Diagram in the notebook\n",
    "from IPython.display import IFrame\n",
    "IFrame(\"../../Presentation/IMDB ERD.pdf\", 800, 600)"
   ]
  },
  {
   "cell_type": "code",
   "execution_count": 4,
   "metadata": {},
   "outputs": [
    {
     "name": "stdout",
     "output_type": "stream",
     "text": [
      "Reading title.basics.tsv\n",
      "      tconst titleType            primaryTitle           originalTitle  \\\n",
      "0  tt0000001     short              Carmencita              Carmencita   \n",
      "1  tt0000002     short  Le clown et ses chiens  Le clown et ses chiens   \n",
      "2  tt0000003     short          Pauvre Pierrot          Pauvre Pierrot   \n",
      "3  tt0000004     short             Un bon bock             Un bon bock   \n",
      "4  tt0000005     short        Blacksmith Scene        Blacksmith Scene   \n",
      "\n",
      "  isAdult startYear endYear runtimeMinutes                    genres  \n",
      "0       0      1894      \\N              1         Documentary,Short  \n",
      "1       0      1892      \\N              5           Animation,Short  \n",
      "2       0      1892      \\N              4  Animation,Comedy,Romance  \n",
      "3       0      1892      \\N             \\N           Animation,Short  \n",
      "4       0      1893      \\N              1                     Short  \n",
      "Reading title.ratings.tsv\n",
      "CompletitleRatingste - 7 of 7\n",
      "      tconst  averageRating  numVotes\n",
      "0  tt0000001            5.8      1393\n",
      "1  tt0000002            6.5       163\n",
      "2  tt0000003            6.6       980\n",
      "3  tt0000004            6.4        98\n",
      "4  tt0000005            6.2      1674\n",
      "\n",
      "-----all data loaded -----\n"
     ]
    }
   ],
   "source": [
    "#===============================================================================\n",
    "#     READ INPUT DATA\n",
    "#===============================================================================\n",
    "\n",
    "#--------------------------------------------------------\n",
    "#--  Input File 1:  name.basics.tsv\n",
    "#--------------------------------------------------------\n",
    "#print('Reading name.basics.tsv')\n",
    "#nameBasics = pd.read_csv(\"./Data/name.basics.tsv/data.tsv\", sep='\\t')\n",
    "#print('Complete - 1 of 7')\n",
    "#print(nameBasics.head(5))\n",
    "\n",
    "#--------------------------------------------------------\n",
    "#--  Input File 2:  title.akas.tsv\n",
    "#--------------------------------------------------------\n",
    "#print('Reading title.akas.tsv')\n",
    "#titleAkas = pd.read_csv(\"./Data/title.akas.tsv/data.tsv\", sep='\\t',dtype={\"titleId\": object, \"ordering\": object, \"title\": object, \"region\": object, \"language\": object, \"types\": object, \"attributes\": object, \"isOriginalTitle\": object})\n",
    "#print('Complete - 2 of 7')\n",
    "#print(titleAkas.head(5))\n",
    "\n",
    "#--------------------------------------------------------\n",
    "#--  Input File 3:  title.basics.tsv\n",
    "#--------------------------------------------------------\n",
    "print('Reading title.basics.tsv')\n",
    "titleBasics = pd.read_csv(\"../Data/title.basics.tsv/data.tsv\", sep='\\t',dtype={\"tconst\": object, \"titleType\": object, \"primaryTitle\": object, \"originalTitle\": object, \"isAdult\": object, \"startYear\": object})\n",
    "#print('Complete - 3 of 7')\n",
    "titleBasics = titleBasics[titleBasics.isAdult == \"0\"]\n",
    "print(titleBasics.head(5))\n",
    "\n",
    "#--------------------------------------------------------\n",
    "#--  Input File 4:  title.crew.tsv\n",
    "#--------------------------------------------------------\n",
    "#print('Reading title.crew.tsv')\n",
    "#titleCrew = pd.read_csv(\"./Data/title.crew.tsv/data.tsv\", sep='\\t')\n",
    "#print('Complete - 4 of 7')\n",
    "#print(titleCrew.head(5))\n",
    "\n",
    "#--------------------------------------------------------\n",
    "#--  Input File 5:  title.episode.tsv\n",
    "#--------------------------------------------------------\n",
    "#print('Reading title.episode.tsv')\n",
    "#titleEpisode = pd.read_csv(\"./Data/title.episode.tsv/data.tsv\", sep='\\t')\n",
    "#print('Complete - 5 of 7')\n",
    "#print(titleEpisode.head(5))\n",
    "\n",
    "#--------------------------------------------------------\n",
    "#--  Input File 6:  title.principals.tsv\n",
    "#--------------------------------------------------------\n",
    "#print('Reading title.principals.tsv')\n",
    "#titlePrincipals = pd.read_csv(\"./Data/title.principals.tsv/data.tsv\", sep='\\t')\n",
    "#print('Complete - 6 of 7')\n",
    "#print(titlePrincipals.head(5))\n",
    "\n",
    "#--------------------------------------------------------\n",
    "#--  Input File 7:  title.ratings.tsv\n",
    "#--------------------------------------------------------\n",
    "print('Reading title.ratings.tsv')\n",
    "titleRatings = pd.read_csv(\"../Data/title.ratings.tsv/data.tsv\", sep='\\t',dtype={\"tconst\": object, \"averageRating\": float, \"numVotes\": int})\n",
    "print('CompletitleRatingste - 7 of 7')\n",
    "print(titleRatings.head(5))\n",
    "\n",
    "print('\\n-----all data loaded -----')"
   ]
  },
  {
   "cell_type": "markdown",
   "metadata": {},
   "source": [
    "<hr>\n",
    "\n",
    "## Explore the Data"
   ]
  },
  {
   "cell_type": "code",
   "execution_count": 5,
   "metadata": {},
   "outputs": [
    {
     "data": {
      "text/html": [
       "<div>\n",
       "<style scoped>\n",
       "    .dataframe tbody tr th:only-of-type {\n",
       "        vertical-align: middle;\n",
       "    }\n",
       "\n",
       "    .dataframe tbody tr th {\n",
       "        vertical-align: top;\n",
       "    }\n",
       "\n",
       "    .dataframe thead th {\n",
       "        text-align: right;\n",
       "    }\n",
       "</style>\n",
       "<table border=\"1\" class=\"dataframe\">\n",
       "  <thead>\n",
       "    <tr style=\"text-align: right;\">\n",
       "      <th></th>\n",
       "      <th>tconst</th>\n",
       "      <th>titleType</th>\n",
       "      <th>primaryTitle</th>\n",
       "      <th>originalTitle</th>\n",
       "      <th>isAdult</th>\n",
       "      <th>startYear</th>\n",
       "      <th>endYear</th>\n",
       "      <th>runtimeMinutes</th>\n",
       "      <th>genres</th>\n",
       "    </tr>\n",
       "  </thead>\n",
       "  <tbody>\n",
       "    <tr>\n",
       "      <th>count</th>\n",
       "      <td>5007799</td>\n",
       "      <td>5007799</td>\n",
       "      <td>5007793</td>\n",
       "      <td>5007793</td>\n",
       "      <td>5007799</td>\n",
       "      <td>5007799</td>\n",
       "      <td>5007799</td>\n",
       "      <td>5007799</td>\n",
       "      <td>5007799</td>\n",
       "    </tr>\n",
       "    <tr>\n",
       "      <th>unique</th>\n",
       "      <td>5007799</td>\n",
       "      <td>10</td>\n",
       "      <td>2597437</td>\n",
       "      <td>2611189</td>\n",
       "      <td>1</td>\n",
       "      <td>146</td>\n",
       "      <td>94</td>\n",
       "      <td>777</td>\n",
       "      <td>2081</td>\n",
       "    </tr>\n",
       "    <tr>\n",
       "      <th>top</th>\n",
       "      <td>tt3372688</td>\n",
       "      <td>tvEpisode</td>\n",
       "      <td>Episode #1.1</td>\n",
       "      <td>Episode #1.1</td>\n",
       "      <td>0</td>\n",
       "      <td>\\N</td>\n",
       "      <td>\\N</td>\n",
       "      <td>\\N</td>\n",
       "      <td>\\N</td>\n",
       "    </tr>\n",
       "    <tr>\n",
       "      <th>freq</th>\n",
       "      <td>1</td>\n",
       "      <td>3423422</td>\n",
       "      <td>28867</td>\n",
       "      <td>28873</td>\n",
       "      <td>5007799</td>\n",
       "      <td>293222</td>\n",
       "      <td>4966825</td>\n",
       "      <td>3475620</td>\n",
       "      <td>409170</td>\n",
       "    </tr>\n",
       "  </tbody>\n",
       "</table>\n",
       "</div>"
      ],
      "text/plain": [
       "           tconst  titleType  primaryTitle originalTitle  isAdult startYear  \\\n",
       "count     5007799    5007799       5007793       5007793  5007799   5007799   \n",
       "unique    5007799         10       2597437       2611189        1       146   \n",
       "top     tt3372688  tvEpisode  Episode #1.1  Episode #1.1        0        \\N   \n",
       "freq            1    3423422         28867         28873  5007799    293222   \n",
       "\n",
       "        endYear runtimeMinutes   genres  \n",
       "count   5007799        5007799  5007799  \n",
       "unique       94            777     2081  \n",
       "top          \\N             \\N       \\N  \n",
       "freq    4966825        3475620   409170  "
      ]
     },
     "execution_count": 5,
     "metadata": {},
     "output_type": "execute_result"
    }
   ],
   "source": [
    "titleBasics.describe()"
   ]
  },
  {
   "cell_type": "code",
   "execution_count": 6,
   "metadata": {},
   "outputs": [
    {
     "data": {
      "text/html": [
       "<div>\n",
       "<style scoped>\n",
       "    .dataframe tbody tr th:only-of-type {\n",
       "        vertical-align: middle;\n",
       "    }\n",
       "\n",
       "    .dataframe tbody tr th {\n",
       "        vertical-align: top;\n",
       "    }\n",
       "\n",
       "    .dataframe thead th {\n",
       "        text-align: right;\n",
       "    }\n",
       "</style>\n",
       "<table border=\"1\" class=\"dataframe\">\n",
       "  <thead>\n",
       "    <tr style=\"text-align: right;\">\n",
       "      <th></th>\n",
       "      <th>averageRating</th>\n",
       "      <th>numVotes</th>\n",
       "    </tr>\n",
       "  </thead>\n",
       "  <tbody>\n",
       "    <tr>\n",
       "      <th>count</th>\n",
       "      <td>854061.000000</td>\n",
       "      <td>8.540610e+05</td>\n",
       "    </tr>\n",
       "    <tr>\n",
       "      <th>mean</th>\n",
       "      <td>6.931250</td>\n",
       "      <td>9.778279e+02</td>\n",
       "    </tr>\n",
       "    <tr>\n",
       "      <th>std</th>\n",
       "      <td>1.394631</td>\n",
       "      <td>1.537240e+04</td>\n",
       "    </tr>\n",
       "    <tr>\n",
       "      <th>min</th>\n",
       "      <td>1.000000</td>\n",
       "      <td>5.000000e+00</td>\n",
       "    </tr>\n",
       "    <tr>\n",
       "      <th>25%</th>\n",
       "      <td>6.200000</td>\n",
       "      <td>9.000000e+00</td>\n",
       "    </tr>\n",
       "    <tr>\n",
       "      <th>50%</th>\n",
       "      <td>7.100000</td>\n",
       "      <td>2.000000e+01</td>\n",
       "    </tr>\n",
       "    <tr>\n",
       "      <th>75%</th>\n",
       "      <td>7.900000</td>\n",
       "      <td>7.700000e+01</td>\n",
       "    </tr>\n",
       "    <tr>\n",
       "      <th>max</th>\n",
       "      <td>10.000000</td>\n",
       "      <td>1.976346e+06</td>\n",
       "    </tr>\n",
       "  </tbody>\n",
       "</table>\n",
       "</div>"
      ],
      "text/plain": [
       "       averageRating      numVotes\n",
       "count  854061.000000  8.540610e+05\n",
       "mean        6.931250  9.778279e+02\n",
       "std         1.394631  1.537240e+04\n",
       "min         1.000000  5.000000e+00\n",
       "25%         6.200000  9.000000e+00\n",
       "50%         7.100000  2.000000e+01\n",
       "75%         7.900000  7.700000e+01\n",
       "max        10.000000  1.976346e+06"
      ]
     },
     "execution_count": 6,
     "metadata": {},
     "output_type": "execute_result"
    }
   ],
   "source": [
    "titleRatings.describe()"
   ]
  },
  {
   "cell_type": "code",
   "execution_count": 7,
   "metadata": {},
   "outputs": [
    {
     "data": {
      "text/plain": [
       "4153738"
      ]
     },
     "execution_count": 7,
     "metadata": {},
     "output_type": "execute_result"
    }
   ],
   "source": [
    "len(titleBasics) - len(titleRatings)"
   ]
  },
  {
   "cell_type": "markdown",
   "metadata": {},
   "source": [
    "The titleBasics table has 4153738 more rows than the titleRatings table. \n",
    "\n",
    "Will need to look at removing NaN were appropriate and get a subset of data that contains only movies."
   ]
  },
  {
   "cell_type": "markdown",
   "metadata": {},
   "source": [
    "<hr>\n",
    "\n",
    "### Merge the titleBasics and titleRatings Data\n",
    "\n",
    "No need to rename columns as the column names are already consistent and have a way to join naturally using the `tconst` column.\n",
    "\n",
    "Use of the pandas database-style [`merge()`](http://pandas.pydata.org/pandas-docs/stable/merging.html#database-style-dataframe-joining-merging) function."
   ]
  },
  {
   "cell_type": "code",
   "execution_count": 8,
   "metadata": {},
   "outputs": [
    {
     "data": {
      "text/plain": [
       "836944"
      ]
     },
     "execution_count": 8,
     "metadata": {},
     "output_type": "execute_result"
    }
   ],
   "source": [
    "# returns an inner join of both dataframes\n",
    "title_data = pd.merge(titleBasics, titleRatings, how='inner', on=['tconst'])\n",
    "\n",
    "# Check the length of the resulting join\n",
    "len(title_data)"
   ]
  },
  {
   "cell_type": "code",
   "execution_count": 9,
   "metadata": {
    "scrolled": false
   },
   "outputs": [
    {
     "data": {
      "text/html": [
       "<div>\n",
       "<style scoped>\n",
       "    .dataframe tbody tr th:only-of-type {\n",
       "        vertical-align: middle;\n",
       "    }\n",
       "\n",
       "    .dataframe tbody tr th {\n",
       "        vertical-align: top;\n",
       "    }\n",
       "\n",
       "    .dataframe thead th {\n",
       "        text-align: right;\n",
       "    }\n",
       "</style>\n",
       "<table border=\"1\" class=\"dataframe\">\n",
       "  <thead>\n",
       "    <tr style=\"text-align: right;\">\n",
       "      <th></th>\n",
       "      <th>tconst</th>\n",
       "      <th>titleType</th>\n",
       "      <th>primaryTitle</th>\n",
       "      <th>originalTitle</th>\n",
       "      <th>isAdult</th>\n",
       "      <th>startYear</th>\n",
       "      <th>endYear</th>\n",
       "      <th>runtimeMinutes</th>\n",
       "      <th>genres</th>\n",
       "      <th>averageRating</th>\n",
       "      <th>numVotes</th>\n",
       "    </tr>\n",
       "  </thead>\n",
       "  <tbody>\n",
       "    <tr>\n",
       "      <th>0</th>\n",
       "      <td>tt0000001</td>\n",
       "      <td>short</td>\n",
       "      <td>Carmencita</td>\n",
       "      <td>Carmencita</td>\n",
       "      <td>0</td>\n",
       "      <td>1894</td>\n",
       "      <td>\\N</td>\n",
       "      <td>1</td>\n",
       "      <td>Documentary,Short</td>\n",
       "      <td>5.8</td>\n",
       "      <td>1393</td>\n",
       "    </tr>\n",
       "    <tr>\n",
       "      <th>1</th>\n",
       "      <td>tt0000002</td>\n",
       "      <td>short</td>\n",
       "      <td>Le clown et ses chiens</td>\n",
       "      <td>Le clown et ses chiens</td>\n",
       "      <td>0</td>\n",
       "      <td>1892</td>\n",
       "      <td>\\N</td>\n",
       "      <td>5</td>\n",
       "      <td>Animation,Short</td>\n",
       "      <td>6.5</td>\n",
       "      <td>163</td>\n",
       "    </tr>\n",
       "    <tr>\n",
       "      <th>2</th>\n",
       "      <td>tt0000003</td>\n",
       "      <td>short</td>\n",
       "      <td>Pauvre Pierrot</td>\n",
       "      <td>Pauvre Pierrot</td>\n",
       "      <td>0</td>\n",
       "      <td>1892</td>\n",
       "      <td>\\N</td>\n",
       "      <td>4</td>\n",
       "      <td>Animation,Comedy,Romance</td>\n",
       "      <td>6.6</td>\n",
       "      <td>980</td>\n",
       "    </tr>\n",
       "    <tr>\n",
       "      <th>3</th>\n",
       "      <td>tt0000004</td>\n",
       "      <td>short</td>\n",
       "      <td>Un bon bock</td>\n",
       "      <td>Un bon bock</td>\n",
       "      <td>0</td>\n",
       "      <td>1892</td>\n",
       "      <td>\\N</td>\n",
       "      <td>\\N</td>\n",
       "      <td>Animation,Short</td>\n",
       "      <td>6.4</td>\n",
       "      <td>98</td>\n",
       "    </tr>\n",
       "    <tr>\n",
       "      <th>4</th>\n",
       "      <td>tt0000005</td>\n",
       "      <td>short</td>\n",
       "      <td>Blacksmith Scene</td>\n",
       "      <td>Blacksmith Scene</td>\n",
       "      <td>0</td>\n",
       "      <td>1893</td>\n",
       "      <td>\\N</td>\n",
       "      <td>1</td>\n",
       "      <td>Short</td>\n",
       "      <td>6.2</td>\n",
       "      <td>1674</td>\n",
       "    </tr>\n",
       "  </tbody>\n",
       "</table>\n",
       "</div>"
      ],
      "text/plain": [
       "      tconst titleType            primaryTitle           originalTitle  \\\n",
       "0  tt0000001     short              Carmencita              Carmencita   \n",
       "1  tt0000002     short  Le clown et ses chiens  Le clown et ses chiens   \n",
       "2  tt0000003     short          Pauvre Pierrot          Pauvre Pierrot   \n",
       "3  tt0000004     short             Un bon bock             Un bon bock   \n",
       "4  tt0000005     short        Blacksmith Scene        Blacksmith Scene   \n",
       "\n",
       "  isAdult startYear endYear runtimeMinutes                    genres  \\\n",
       "0       0      1894      \\N              1         Documentary,Short   \n",
       "1       0      1892      \\N              5           Animation,Short   \n",
       "2       0      1892      \\N              4  Animation,Comedy,Romance   \n",
       "3       0      1892      \\N             \\N           Animation,Short   \n",
       "4       0      1893      \\N              1                     Short   \n",
       "\n",
       "   averageRating  numVotes  \n",
       "0            5.8      1393  \n",
       "1            6.5       163  \n",
       "2            6.6       980  \n",
       "3            6.4        98  \n",
       "4            6.2      1674  "
      ]
     },
     "execution_count": 9,
     "metadata": {},
     "output_type": "execute_result"
    }
   ],
   "source": [
    "title_data.head()"
   ]
  },
  {
   "cell_type": "markdown",
   "metadata": {},
   "source": [
    "_Note that later in the notebook the null values are fixed_"
   ]
  },
  {
   "cell_type": "code",
   "execution_count": 10,
   "metadata": {},
   "outputs": [
    {
     "data": {
      "text/plain": [
       "tconst            0\n",
       "titleType         0\n",
       "primaryTitle      0\n",
       "originalTitle     0\n",
       "isAdult           0\n",
       "startYear         0\n",
       "endYear           0\n",
       "runtimeMinutes    0\n",
       "genres            0\n",
       "averageRating     0\n",
       "numVotes          0\n",
       "dtype: int64"
      ]
     },
     "execution_count": 10,
     "metadata": {},
     "output_type": "execute_result"
    }
   ],
   "source": [
    "# check if any rows are missing data\n",
    "title_data.isnull().sum()"
   ]
  },
  {
   "cell_type": "markdown",
   "metadata": {},
   "source": [
    "<hr>\n",
    "\n",
    "### Explore titleType From titleBasics"
   ]
  },
  {
   "cell_type": "code",
   "execution_count": 11,
   "metadata": {},
   "outputs": [
    {
     "data": {
      "text/plain": [
       "tvEpisode       358073\n",
       "movie           217610\n",
       "short           102860\n",
       "tvSeries         58193\n",
       "tvMovie          42237\n",
       "video            32572\n",
       "videoGame         8558\n",
       "tvMiniSeries      8059\n",
       "tvSpecial         6362\n",
       "tvShort           2420\n",
       "Name: titleType, dtype: int64"
      ]
     },
     "execution_count": 11,
     "metadata": {},
     "output_type": "execute_result"
    }
   ],
   "source": [
    "title_data.titleType.value_counts()"
   ]
  },
  {
   "cell_type": "markdown",
   "metadata": {},
   "source": [
    "TitleTypes to include:\n",
    "- movie\n",
    "\n",
    "TitleTypes to consider (similar to movies, these have one runtime with no endYear value):\n",
    "- short, tvMovie, video, tvSpecial, tvShort\n",
    "\n",
    "The below 3 cells explore the titleTypes to consider that also fit the \"movie\" criteria."
   ]
  },
  {
   "cell_type": "code",
   "execution_count": 12,
   "metadata": {},
   "outputs": [
    {
     "data": {
      "text/html": [
       "<div>\n",
       "<style scoped>\n",
       "    .dataframe tbody tr th:only-of-type {\n",
       "        vertical-align: middle;\n",
       "    }\n",
       "\n",
       "    .dataframe tbody tr th {\n",
       "        vertical-align: top;\n",
       "    }\n",
       "\n",
       "    .dataframe thead th {\n",
       "        text-align: right;\n",
       "    }\n",
       "</style>\n",
       "<table border=\"1\" class=\"dataframe\">\n",
       "  <thead>\n",
       "    <tr style=\"text-align: right;\">\n",
       "      <th></th>\n",
       "      <th>tconst</th>\n",
       "      <th>titleType</th>\n",
       "      <th>primaryTitle</th>\n",
       "      <th>originalTitle</th>\n",
       "      <th>isAdult</th>\n",
       "      <th>startYear</th>\n",
       "      <th>endYear</th>\n",
       "      <th>runtimeMinutes</th>\n",
       "      <th>genres</th>\n",
       "      <th>averageRating</th>\n",
       "      <th>numVotes</th>\n",
       "    </tr>\n",
       "  </thead>\n",
       "  <tbody>\n",
       "    <tr>\n",
       "      <th>11169</th>\n",
       "      <td>tt0029270</td>\n",
       "      <td>tvMovie</td>\n",
       "      <td>Much Ado About Nothing</td>\n",
       "      <td>Much Ado About Nothing</td>\n",
       "      <td>0</td>\n",
       "      <td>1937</td>\n",
       "      <td>\\N</td>\n",
       "      <td>10</td>\n",
       "      <td>Comedy,Romance</td>\n",
       "      <td>5.0</td>\n",
       "      <td>6</td>\n",
       "    </tr>\n",
       "    <tr>\n",
       "      <th>18524</th>\n",
       "      <td>tt0038738</td>\n",
       "      <td>tvMovie</td>\n",
       "      <td>A Midsummer Night's Dream</td>\n",
       "      <td>A Midsummer Night's Dream</td>\n",
       "      <td>0</td>\n",
       "      <td>1946</td>\n",
       "      <td>\\N</td>\n",
       "      <td>150</td>\n",
       "      <td>\\N</td>\n",
       "      <td>8.4</td>\n",
       "      <td>5</td>\n",
       "    </tr>\n",
       "    <tr>\n",
       "      <th>19087</th>\n",
       "      <td>tt0039445</td>\n",
       "      <td>tvMovie</td>\n",
       "      <td>Hamlet Part 1</td>\n",
       "      <td>Hamlet Part 1</td>\n",
       "      <td>0</td>\n",
       "      <td>1947</td>\n",
       "      <td>\\N</td>\n",
       "      <td>88</td>\n",
       "      <td>Drama</td>\n",
       "      <td>7.0</td>\n",
       "      <td>5</td>\n",
       "    </tr>\n",
       "    <tr>\n",
       "      <th>19896</th>\n",
       "      <td>tt0040510</td>\n",
       "      <td>tvMovie</td>\n",
       "      <td>The Tragedy of King Lear Part 1</td>\n",
       "      <td>The Tragedy of King Lear Part 1</td>\n",
       "      <td>0</td>\n",
       "      <td>1948</td>\n",
       "      <td>\\N</td>\n",
       "      <td>108</td>\n",
       "      <td>Drama</td>\n",
       "      <td>6.1</td>\n",
       "      <td>8</td>\n",
       "    </tr>\n",
       "    <tr>\n",
       "      <th>21141</th>\n",
       "      <td>tt0042169</td>\n",
       "      <td>tvMovie</td>\n",
       "      <td>Wit and Wisdom</td>\n",
       "      <td>Wit and Wisdom</td>\n",
       "      <td>0</td>\n",
       "      <td>1950</td>\n",
       "      <td>\\N</td>\n",
       "      <td>45</td>\n",
       "      <td>Comedy</td>\n",
       "      <td>6.8</td>\n",
       "      <td>6</td>\n",
       "    </tr>\n",
       "  </tbody>\n",
       "</table>\n",
       "</div>"
      ],
      "text/plain": [
       "          tconst titleType                     primaryTitle  \\\n",
       "11169  tt0029270   tvMovie           Much Ado About Nothing   \n",
       "18524  tt0038738   tvMovie        A Midsummer Night's Dream   \n",
       "19087  tt0039445   tvMovie                    Hamlet Part 1   \n",
       "19896  tt0040510   tvMovie  The Tragedy of King Lear Part 1   \n",
       "21141  tt0042169   tvMovie                   Wit and Wisdom   \n",
       "\n",
       "                         originalTitle isAdult startYear endYear  \\\n",
       "11169           Much Ado About Nothing       0      1937      \\N   \n",
       "18524        A Midsummer Night's Dream       0      1946      \\N   \n",
       "19087                    Hamlet Part 1       0      1947      \\N   \n",
       "19896  The Tragedy of King Lear Part 1       0      1948      \\N   \n",
       "21141                   Wit and Wisdom       0      1950      \\N   \n",
       "\n",
       "      runtimeMinutes          genres  averageRating  numVotes  \n",
       "11169             10  Comedy,Romance            5.0         6  \n",
       "18524            150              \\N            8.4         5  \n",
       "19087             88           Drama            7.0         5  \n",
       "19896            108           Drama            6.1         8  \n",
       "21141             45          Comedy            6.8         6  "
      ]
     },
     "execution_count": 12,
     "metadata": {},
     "output_type": "execute_result"
    }
   ],
   "source": [
    "title_data_titleType = title_data[title_data.titleType == 'tvMovie']\n",
    "\n",
    "title_data_titleType.head()"
   ]
  },
  {
   "cell_type": "code",
   "execution_count": 13,
   "metadata": {},
   "outputs": [
    {
     "data": {
      "text/plain": [
       "\\N    42237\n",
       "Name: endYear, dtype: int64"
      ]
     },
     "execution_count": 13,
     "metadata": {},
     "output_type": "execute_result"
    }
   ],
   "source": [
    "title_data_titleType.endYear.value_counts()"
   ]
  },
  {
   "cell_type": "code",
   "execution_count": 14,
   "metadata": {
    "scrolled": true
   },
   "outputs": [
    {
     "data": {
      "text/plain": [
       "count     42237\n",
       "unique       82\n",
       "top        2007\n",
       "freq       1650\n",
       "Name: startYear, dtype: object"
      ]
     },
     "execution_count": 14,
     "metadata": {},
     "output_type": "execute_result"
    }
   ],
   "source": [
    "title_data_titleType.startYear.describe()"
   ]
  },
  {
   "cell_type": "markdown",
   "metadata": {},
   "source": [
    "Apply a mask that removes all title types that are not `movies`, then save the results to a new dataframe."
   ]
  },
  {
   "cell_type": "code",
   "execution_count": 15,
   "metadata": {},
   "outputs": [],
   "source": [
    "movie_data = title_data[title_data.titleType == 'movie']"
   ]
  },
  {
   "cell_type": "code",
   "execution_count": 16,
   "metadata": {},
   "outputs": [
    {
     "data": {
      "text/plain": [
       "217610"
      ]
     },
     "execution_count": 16,
     "metadata": {},
     "output_type": "execute_result"
    }
   ],
   "source": [
    "# Confirm the subset has fewer records than the original dataset\n",
    "len(movie_data) < len(title_data)\n",
    "len(movie_data)"
   ]
  },
  {
   "cell_type": "markdown",
   "metadata": {},
   "source": [
    "Next remove unused columns that contain all NaN or null values."
   ]
  },
  {
   "cell_type": "code",
   "execution_count": 17,
   "metadata": {},
   "outputs": [
    {
     "data": {
      "text/plain": [
       "\\N    217610\n",
       "Name: endYear, dtype: int64"
      ]
     },
     "execution_count": 17,
     "metadata": {},
     "output_type": "execute_result"
    }
   ],
   "source": [
    "# Confirm there are no values for the endYear\n",
    "movie_data.endYear.value_counts()"
   ]
  },
  {
   "cell_type": "code",
   "execution_count": 18,
   "metadata": {
    "scrolled": true
   },
   "outputs": [
    {
     "data": {
      "text/html": [
       "<div>\n",
       "<style scoped>\n",
       "    .dataframe tbody tr th:only-of-type {\n",
       "        vertical-align: middle;\n",
       "    }\n",
       "\n",
       "    .dataframe tbody tr th {\n",
       "        vertical-align: top;\n",
       "    }\n",
       "\n",
       "    .dataframe thead th {\n",
       "        text-align: right;\n",
       "    }\n",
       "</style>\n",
       "<table border=\"1\" class=\"dataframe\">\n",
       "  <thead>\n",
       "    <tr style=\"text-align: right;\">\n",
       "      <th></th>\n",
       "      <th>tconst</th>\n",
       "      <th>primaryTitle</th>\n",
       "      <th>originalTitle</th>\n",
       "      <th>startYear</th>\n",
       "      <th>runtimeMinutes</th>\n",
       "      <th>genres</th>\n",
       "      <th>averageRating</th>\n",
       "      <th>numVotes</th>\n",
       "    </tr>\n",
       "  </thead>\n",
       "  <tbody>\n",
       "    <tr>\n",
       "      <th>8</th>\n",
       "      <td>tt0000009</td>\n",
       "      <td>Miss Jerry</td>\n",
       "      <td>Miss Jerry</td>\n",
       "      <td>1894</td>\n",
       "      <td>45</td>\n",
       "      <td>Romance</td>\n",
       "      <td>5.5</td>\n",
       "      <td>67</td>\n",
       "    </tr>\n",
       "    <tr>\n",
       "      <th>142</th>\n",
       "      <td>tt0000147</td>\n",
       "      <td>The Corbett-Fitzsimmons Fight</td>\n",
       "      <td>The Corbett-Fitzsimmons Fight</td>\n",
       "      <td>1897</td>\n",
       "      <td>20</td>\n",
       "      <td>Documentary,News,Sport</td>\n",
       "      <td>5.2</td>\n",
       "      <td>259</td>\n",
       "    </tr>\n",
       "    <tr>\n",
       "      <th>235</th>\n",
       "      <td>tt0000335</td>\n",
       "      <td>Soldiers of the Cross</td>\n",
       "      <td>Soldiers of the Cross</td>\n",
       "      <td>1900</td>\n",
       "      <td>\\N</td>\n",
       "      <td>Biography,Drama</td>\n",
       "      <td>6.2</td>\n",
       "      <td>35</td>\n",
       "    </tr>\n",
       "    <tr>\n",
       "      <th>337</th>\n",
       "      <td>tt0000574</td>\n",
       "      <td>The Story of the Kelly Gang</td>\n",
       "      <td>The Story of the Kelly Gang</td>\n",
       "      <td>1906</td>\n",
       "      <td>70</td>\n",
       "      <td>Biography,Crime,Drama</td>\n",
       "      <td>6.3</td>\n",
       "      <td>464</td>\n",
       "    </tr>\n",
       "    <tr>\n",
       "      <th>353</th>\n",
       "      <td>tt0000615</td>\n",
       "      <td>Robbery Under Arms</td>\n",
       "      <td>Robbery Under Arms</td>\n",
       "      <td>1907</td>\n",
       "      <td>\\N</td>\n",
       "      <td>Drama</td>\n",
       "      <td>5.1</td>\n",
       "      <td>13</td>\n",
       "    </tr>\n",
       "  </tbody>\n",
       "</table>\n",
       "</div>"
      ],
      "text/plain": [
       "        tconst                   primaryTitle                  originalTitle  \\\n",
       "8    tt0000009                     Miss Jerry                     Miss Jerry   \n",
       "142  tt0000147  The Corbett-Fitzsimmons Fight  The Corbett-Fitzsimmons Fight   \n",
       "235  tt0000335          Soldiers of the Cross          Soldiers of the Cross   \n",
       "337  tt0000574    The Story of the Kelly Gang    The Story of the Kelly Gang   \n",
       "353  tt0000615             Robbery Under Arms             Robbery Under Arms   \n",
       "\n",
       "    startYear runtimeMinutes                  genres  averageRating  numVotes  \n",
       "8        1894             45                 Romance            5.5        67  \n",
       "142      1897             20  Documentary,News,Sport            5.2       259  \n",
       "235      1900             \\N         Biography,Drama            6.2        35  \n",
       "337      1906             70   Biography,Crime,Drama            6.3       464  \n",
       "353      1907             \\N                   Drama            5.1        13  "
      ]
     },
     "execution_count": 18,
     "metadata": {},
     "output_type": "execute_result"
    }
   ],
   "source": [
    "# drop unused columns\n",
    "movie_data = movie_data.drop(['titleType', 'isAdult', 'endYear'], axis=1)\n",
    "\n",
    "movie_data.head()"
   ]
  },
  {
   "cell_type": "markdown",
   "metadata": {},
   "source": [
    "<hr>\n",
    "\n",
    "### Explore Rows with Null Data\n",
    "\n",
    "Next will explore rows with null data and will need to decide if they should be included in the final dataset. As well as explore the datatypes of rows with numerical data."
   ]
  },
  {
   "cell_type": "code",
   "execution_count": 19,
   "metadata": {},
   "outputs": [
    {
     "data": {
      "text/plain": [
       "tconst            0\n",
       "primaryTitle      0\n",
       "originalTitle     0\n",
       "startYear         0\n",
       "runtimeMinutes    0\n",
       "genres            0\n",
       "averageRating     0\n",
       "numVotes          0\n",
       "dtype: int64"
      ]
     },
     "execution_count": 19,
     "metadata": {},
     "output_type": "execute_result"
    }
   ],
   "source": [
    "# check if any rows are missing data\n",
    "movie_data.isnull().sum()"
   ]
  },
  {
   "cell_type": "code",
   "execution_count": 20,
   "metadata": {},
   "outputs": [
    {
     "data": {
      "text/plain": [
       "array(['45', '20', '\\\\N', '70', '120', '60', '53', '50', '48', '100',\n",
       "       '68', '43', '46', '85', '55', '121', '69', '56', '54', '90', '150',\n",
       "       '51', '64', '96', '49', '61', '300', '41', '99', '110', '88', '52',\n",
       "       '86', '72', '78', '75', '148', '59', '63', '112', '1428', '84',\n",
       "       '65', '105', '81', '199', '109', '74', '80', '82', '67', '195',\n",
       "       '440', '73', '77', '62', '71', '22', '57', '421', '40', '360',\n",
       "       '180', '58', '163', '93', '95', '116', '66', '125', '97', '138',\n",
       "       '350', '374', '87', '108', '16', '83', '136', '94', '13', '117',\n",
       "       '92', '76', '418', '330', '111', '489', '122', '115', '207', '166',\n",
       "       '47', '106', '145', '34', '167', '103', '91', '157', '104', '107',\n",
       "       '248', '79', '235', '184', '89', '102', '131', '114', '380', '119',\n",
       "       '98', '200', '242', '128', '143', '137', '101', '183', '210',\n",
       "       '133', '130', '135', '273', '124', '141', '153', '132', '129',\n",
       "       '123', '144', '155', '151', '170', '140', '113', '359', '118',\n",
       "       '126', '179', '230', '168', '250', '240', '142', '139', '185',\n",
       "       '156', '127', '178', '215', '149', '165', '223', '147', '266',\n",
       "       '217', '172', '158', '226', '164', '17', '194', '220', '216',\n",
       "       '225', '227', '213', '231', '218', '246', '243', '281', '310',\n",
       "       '208', '228', '229', '212', '236', '306', '257', '245', '197',\n",
       "       '255', '219', '323', '305', '328', '269', '176', '232', '258',\n",
       "       '256', '303', '290', '308', '224', '294', '252', '268', '260',\n",
       "       '204', '298', '299', '264', '160', '211', '302', '238', '263',\n",
       "       '320', '265', '205', '154', '237', '285', '146', '293', '267',\n",
       "       '247', '186', '241', '289', '177', '283', '134', '18', '270', '9',\n",
       "       '251', '278', '196', '279', '261', '275', '280', '36', '244',\n",
       "       '189', '169', '295', '201', '221', '23', '38', '173', '192', '171',\n",
       "       '193', '287', '161', '152', '175', '174', '315', '159', '182',\n",
       "       '162', '181', '188', '209', '190', '24', '191', '234', '427',\n",
       "       '202', '14', '203', '253', '206', '11', '239', '187', '632', '198',\n",
       "       '317', '763', '311', '442', '28', '325', '12', '288', '15', '222',\n",
       "       '437', '367', '566', '410', '284', '357', '873', '358', '335',\n",
       "       '30', '32', '214', '42', '501', '271', '450', '316', '27', '25',\n",
       "       '29', '277', '7', '700', '35', '10', '39', '31', '8', '480', '344',\n",
       "       '659', '465', '1100', '321', '485', '44', '5', '382', '385', '729',\n",
       "       '340', '254', '345', '233', '420', '580', '312', '5220', '26',\n",
       "       '21', '336', '2880', '366', '301', '551', '402', '3', '540', '400',\n",
       "       '414', '33', '1115', '272', '19', '840', '1452', '1', '37', '356',\n",
       "       '680', '364', '6', '398', '1440', '353', '324', '4', '724', '9000',\n",
       "       '411', '14400', '291', '416', '338', '476', '319', '341', '274',\n",
       "       '500', '334', '467', '720', '607', '379', '304', '715', '4320',\n",
       "       '495'], dtype=object)"
      ]
     },
     "execution_count": 20,
     "metadata": {},
     "output_type": "execute_result"
    }
   ],
   "source": [
    "movie_data.runtimeMinutes.unique()"
   ]
  },
  {
   "cell_type": "code",
   "execution_count": 21,
   "metadata": {},
   "outputs": [
    {
     "data": {
      "text/plain": [
       "array(['1894', '1897', '1900', '1906', '1907', '1908', '1909', '1910',\n",
       "       '1912', '1911', '1913', '1919', '1914', '1917', '1915', '1936',\n",
       "       '1916', '1925', '1918', '1920', '1921', '1924', '1923', '1922',\n",
       "       '1927', '1929', '1926', '1993', '1935', '1928', '1942', '1933',\n",
       "       '1930', '1931', '1939', '1932', '1950', '1938', '1951', '1934',\n",
       "       '1983', '1946', '1937', '1940', '1941', '1952', '1970', '1957',\n",
       "       '1943', '1945', '1948', '1944', '2001', '1949', '1953', '1947',\n",
       "       '1954', '1965', '1973', '1962', '1958', '1955', '1956', '1961',\n",
       "       '1964', '1960', '1959', '1967', '1963', '1972', '1971', '1969',\n",
       "       '1968', '1966', '1976', '1990', '1977', '1979', '1981', '1978',\n",
       "       '1974', '1989', '1975', '1986', '2016', '1985', '1984', '1982',\n",
       "       '1988', '1980', '1991', '1987', '2005', '1998', '1995', '1992',\n",
       "       '2002', '1994', '2004', '1996', '1997', '2017', '2000', '1999',\n",
       "       '2008', '2003', '2007', '1905', '2006', '2009', '2010', '1902',\n",
       "       '1899', '2013', '2011', '1904', '1898', '1903', '1901', '2012',\n",
       "       '2015', '2014', '2018', '\\\\N'], dtype=object)"
      ]
     },
     "execution_count": 21,
     "metadata": {},
     "output_type": "execute_result"
    }
   ],
   "source": [
    "movie_data.startYear.unique()"
   ]
  },
  {
   "cell_type": "code",
   "execution_count": 22,
   "metadata": {},
   "outputs": [],
   "source": [
    "# replace values with '\\N' with the pandas 'NaN'\n",
    "# source: https://stackoverflow.com/a/49406417\n",
    "movie_data = movie_data.replace({'\\\\N': np.nan})"
   ]
  },
  {
   "cell_type": "code",
   "execution_count": 23,
   "metadata": {},
   "outputs": [
    {
     "data": {
      "text/plain": [
       "tconst                0\n",
       "primaryTitle          0\n",
       "originalTitle         1\n",
       "startYear             2\n",
       "runtimeMinutes    27335\n",
       "genres            13571\n",
       "averageRating         0\n",
       "numVotes              0\n",
       "dtype: int64"
      ]
     },
     "execution_count": 23,
     "metadata": {},
     "output_type": "execute_result"
    }
   ],
   "source": [
    "# check what rows are missing data\n",
    "movie_data.isnull().sum()"
   ]
  },
  {
   "cell_type": "markdown",
   "metadata": {},
   "source": [
    "To convert the `startYear` type from an Object to an Int datatype, we need to fill all NaN rows with zero. This allows for the columns to be used in calculations and charts.\n",
    "\n",
    "**Decision:** Since there are less than 5 rows that do not have a start year, we will remove all '0' values from this column."
   ]
  },
  {
   "cell_type": "code",
   "execution_count": 24,
   "metadata": {},
   "outputs": [],
   "source": [
    "# fill NaN rows with 0\n",
    "movie_data['startYear'] = movie_data.startYear.fillna(0)\n",
    "\n",
    "# convert the column to datatype of int\n",
    "movie_data['startYear'] = movie_data.startYear.astype(int)"
   ]
  },
  {
   "cell_type": "code",
   "execution_count": 25,
   "metadata": {},
   "outputs": [],
   "source": [
    "# drop the rows that contain a startYear of 0\n",
    "# source: https://chrisalbon.com/python/data_wrangling/pandas_dropping_column_and_rows/\n",
    "movie_data = movie_data[movie_data.startYear != 0]"
   ]
  },
  {
   "cell_type": "markdown",
   "metadata": {},
   "source": [
    "The `runtimMinutes` is currently the only column that is an object but may consider turning to a type of int.\n",
    "\n",
    "**Decision Needed:** Convert the 27,335 NaN values to 0?\n",
    "\n",
    "**Decision Needed:** Should the NaN/0 values remain in the final cleaned dataset?"
   ]
  },
  {
   "cell_type": "code",
   "execution_count": 26,
   "metadata": {},
   "outputs": [],
   "source": [
    "# fill NaN rows with 0\n",
    "movie_data['runtimeMinutes'] = movie_data.runtimeMinutes.fillna(0)\n",
    "\n",
    "# convert the column to datatype of int\n",
    "movie_data['runtimeMinutes'] = movie_data.runtimeMinutes.astype(int)"
   ]
  },
  {
   "cell_type": "code",
   "execution_count": 49,
   "metadata": {},
   "outputs": [
    {
     "data": {
      "text/plain": [
       "tconst                0\n",
       "primaryTitle          0\n",
       "originalTitle         1\n",
       "startYear             0\n",
       "runtimeMinutes        0\n",
       "genres            13571\n",
       "averageRating         0\n",
       "numVotes              0\n",
       "dtype: int64"
      ]
     },
     "execution_count": 49,
     "metadata": {},
     "output_type": "execute_result"
    }
   ],
   "source": [
    "# check what rows are missing data\n",
    "movie_data.isnull().sum()"
   ]
  },
  {
   "cell_type": "markdown",
   "metadata": {},
   "source": [
    "<hr>\n",
    "\n",
    "### Determine What Timeframe to Include\n",
    "\n",
    "Why limit the timeframe? Movies release before a certain period of time are not being reviewed as they are release, where many of the reviews may come from viewers watching the movie(s) years after the initial release. For example, the data from IMDB would not have reviews from the year 1894, the same year the movie was released. "
   ]
  },
  {
   "cell_type": "code",
   "execution_count": 43,
   "metadata": {},
   "outputs": [
    {
     "data": {
      "text/plain": [
       "<seaborn.axisgrid.PairGrid at 0x1f22b05c4e0>"
      ]
     },
     "execution_count": 43,
     "metadata": {},
     "output_type": "execute_result"
    },
    {
     "data": {
      "image/png": "[encoded data removed]",
      "text/plain": [
       "<matplotlib.figure.Figure at 0x1f22b05c5c0>"
      ]
     },
     "metadata": {},
     "output_type": "display_data"
    }
   ],
   "source": [
    "sns.pairplot(data=movie_data[['startYear', 'averageRating', 'numVotes']])"
   ]
  },
  {
   "cell_type": "code",
   "execution_count": 44,
   "metadata": {},
   "outputs": [
    {
     "data": {
      "text/plain": [
       "<matplotlib.axes._subplots.AxesSubplot at 0x1f282f76278>"
      ]
     },
     "execution_count": 44,
     "metadata": {},
     "output_type": "execute_result"
    },
    {
     "data": {
      "image/png": "[encoded data removed]",
      "text/plain": [
       "<matplotlib.figure.Figure at 0x1f282f76c88>"
      ]
     },
     "metadata": {},
     "output_type": "display_data"
    }
   ],
   "source": [
    "movie_data.plot.scatter(x=\"startYear\", y=\"averageRating\")"
   ]
  },
  {
   "cell_type": "code",
   "execution_count": 45,
   "metadata": {},
   "outputs": [
    {
     "data": {
      "text/plain": [
       "<matplotlib.axes._subplots.AxesSubplot at 0x1f282f767f0>"
      ]
     },
     "execution_count": 45,
     "metadata": {},
     "output_type": "execute_result"
    },
    {
     "data": {
      "image/png": "[encoded data removed]",
      "text/plain": [
       "<matplotlib.figure.Figure at 0x1f282f6a080>"
      ]
     },
     "metadata": {},
     "output_type": "display_data"
    }
   ],
   "source": [
    "movie_data.averageRating.plot(kind='box')"
   ]
  },
  {
   "cell_type": "markdown",
   "metadata": {},
   "source": [
    "Calculate the thresholds for the outliers."
   ]
  },
  {
   "cell_type": "code",
   "execution_count": 46,
   "metadata": {},
   "outputs": [
    {
     "data": {
      "text/plain": [
       "2.9499999999999997"
      ]
     },
     "metadata": {},
     "output_type": "display_data"
    },
    {
     "data": {
      "text/plain": [
       "9.75"
      ]
     },
     "metadata": {},
     "output_type": "display_data"
    }
   ],
   "source": [
    "q1 = movie_data.averageRating.quantile(0.25)  # first quartile\n",
    "q3 = movie_data.averageRating.quantile(0.75)  # third quartile\n",
    "IQR = q3 - q1  # IQR\n",
    "lower_threshold = q1 - 1.5 * IQR  # lower threshold\n",
    "upper_threshold = q3 + 1.5 * IQR  # upper threshold\n",
    "display(lower_threshold, upper_threshold)"
   ]
  },
  {
   "cell_type": "markdown",
   "metadata": {},
   "source": [
    "Pivot table that looks at the average movie rating for each year."
   ]
  },
  {
   "cell_type": "code",
   "execution_count": 47,
   "metadata": {},
   "outputs": [
    {
     "data": {
      "text/plain": [
       "<matplotlib.axes._subplots.AxesSubplot at 0x1f23d7f4358>"
      ]
     },
     "execution_count": 47,
     "metadata": {},
     "output_type": "execute_result"
    },
    {
     "data": {
      "image/png": "[encoded data removed]",
      "text/plain": [
       "<matplotlib.figure.Figure at 0x1f28287c2e8>"
      ]
     },
     "metadata": {},
     "output_type": "display_data"
    }
   ],
   "source": [
    "movie_pivot = movie_data.pivot_table(index=\"startYear\", \n",
    "                       values=[\"averageRating\"], \n",
    "                       aggfunc=pd.np.median)\n",
    "\n",
    "movie_pivot.plot(kind='line')"
   ]
  },
  {
   "cell_type": "code",
   "execution_count": 48,
   "metadata": {},
   "outputs": [
    {
     "data": {
      "text/plain": [
       "<matplotlib.axes._subplots.AxesSubplot at 0x1f23d8228d0>"
      ]
     },
     "execution_count": 48,
     "metadata": {},
     "output_type": "execute_result"
    },
    {
     "data": {
      "image/png": "[encoded data removed]",
      "text/plain": [
       "<matplotlib.figure.Figure at 0x1f28287e5c0>"
      ]
     },
     "metadata": {},
     "output_type": "display_data"
    }
   ],
   "source": [
    "movie_data.plot.scatter(x=\"numVotes\", y=\"averageRating\")"
   ]
  },
  {
   "cell_type": "markdown",
   "metadata": {},
   "source": [
    "It appears the general trend is that average movie ratings increases each year sometime after the year 2000. Should explore reasons why. Could be movie saturation?\n",
    "\n",
    "This dataset also shows at first glance that the more votes a movie receives, the better the average rating. Similar concept to if the movie is bad, you may see primarily negative reviews."
   ]
  },
  {
   "cell_type": "markdown",
   "metadata": {},
   "source": [
    "**Decision:** Analyze movies that occur on or after the year 1980."
   ]
  },
  {
   "cell_type": "code",
   "execution_count": 33,
   "metadata": {},
   "outputs": [],
   "source": [
    "current_movie_data = movie_data[movie_data.startYear >= 1980]"
   ]
  },
  {
   "cell_type": "code",
   "execution_count": 34,
   "metadata": {},
   "outputs": [
    {
     "data": {
      "text/html": [
       "<div>\n",
       "<style scoped>\n",
       "    .dataframe tbody tr th:only-of-type {\n",
       "        vertical-align: middle;\n",
       "    }\n",
       "\n",
       "    .dataframe tbody tr th {\n",
       "        vertical-align: top;\n",
       "    }\n",
       "\n",
       "    .dataframe thead th {\n",
       "        text-align: right;\n",
       "    }\n",
       "</style>\n",
       "<table border=\"1\" class=\"dataframe\">\n",
       "  <thead>\n",
       "    <tr style=\"text-align: right;\">\n",
       "      <th></th>\n",
       "      <th>tconst</th>\n",
       "      <th>primaryTitle</th>\n",
       "      <th>originalTitle</th>\n",
       "      <th>startYear</th>\n",
       "      <th>runtimeMinutes</th>\n",
       "      <th>genres</th>\n",
       "      <th>averageRating</th>\n",
       "      <th>numVotes</th>\n",
       "    </tr>\n",
       "  </thead>\n",
       "  <tbody>\n",
       "    <tr>\n",
       "      <th>3426</th>\n",
       "      <td>tt0015724</td>\n",
       "      <td>Dama de noche</td>\n",
       "      <td>Dama de noche</td>\n",
       "      <td>1993</td>\n",
       "      <td>102</td>\n",
       "      <td>Drama,Mystery,Romance</td>\n",
       "      <td>6.2</td>\n",
       "      <td>19</td>\n",
       "    </tr>\n",
       "    <tr>\n",
       "      <th>6889</th>\n",
       "      <td>tt0023331</td>\n",
       "      <td>Pesn o geroyakh</td>\n",
       "      <td>Pesn o geroyakh</td>\n",
       "      <td>1983</td>\n",
       "      <td>50</td>\n",
       "      <td>Documentary</td>\n",
       "      <td>6.8</td>\n",
       "      <td>66</td>\n",
       "    </tr>\n",
       "    <tr>\n",
       "      <th>15915</th>\n",
       "      <td>tt0035423</td>\n",
       "      <td>Kate &amp; Leopold</td>\n",
       "      <td>Kate &amp; Leopold</td>\n",
       "      <td>2001</td>\n",
       "      <td>118</td>\n",
       "      <td>Comedy,Fantasy,Romance</td>\n",
       "      <td>6.4</td>\n",
       "      <td>71535</td>\n",
       "    </tr>\n",
       "    <tr>\n",
       "      <th>16861</th>\n",
       "      <td>tt0036606</td>\n",
       "      <td>Another Time, Another Place</td>\n",
       "      <td>Another Time, Another Place</td>\n",
       "      <td>1983</td>\n",
       "      <td>118</td>\n",
       "      <td>Drama</td>\n",
       "      <td>6.6</td>\n",
       "      <td>209</td>\n",
       "    </tr>\n",
       "    <tr>\n",
       "      <th>33746</th>\n",
       "      <td>tt0057461</td>\n",
       "      <td>La rosa de los vientos</td>\n",
       "      <td>La rosa de los vientos</td>\n",
       "      <td>1983</td>\n",
       "      <td>84</td>\n",
       "      <td>NaN</td>\n",
       "      <td>4.1</td>\n",
       "      <td>10</td>\n",
       "    </tr>\n",
       "  </tbody>\n",
       "</table>\n",
       "</div>"
      ],
      "text/plain": [
       "          tconst                 primaryTitle                originalTitle  \\\n",
       "3426   tt0015724                Dama de noche                Dama de noche   \n",
       "6889   tt0023331              Pesn o geroyakh              Pesn o geroyakh   \n",
       "15915  tt0035423               Kate & Leopold               Kate & Leopold   \n",
       "16861  tt0036606  Another Time, Another Place  Another Time, Another Place   \n",
       "33746  tt0057461       La rosa de los vientos       La rosa de los vientos   \n",
       "\n",
       "       startYear  runtimeMinutes                  genres  averageRating  \\\n",
       "3426        1993             102   Drama,Mystery,Romance            6.2   \n",
       "6889        1983              50             Documentary            6.8   \n",
       "15915       2001             118  Comedy,Fantasy,Romance            6.4   \n",
       "16861       1983             118                   Drama            6.6   \n",
       "33746       1983              84                     NaN            4.1   \n",
       "\n",
       "       numVotes  \n",
       "3426         19  \n",
       "6889         66  \n",
       "15915     71535  \n",
       "16861       209  \n",
       "33746        10  "
      ]
     },
     "execution_count": 34,
     "metadata": {},
     "output_type": "execute_result"
    }
   ],
   "source": [
    "current_movie_data.head()"
   ]
  },
  {
   "cell_type": "markdown",
   "metadata": {},
   "source": [
    "There's a fractionally larger threshold after narrowing down the startYear."
   ]
  },
  {
   "cell_type": "code",
   "execution_count": 51,
   "metadata": {},
   "outputs": [
    {
     "data": {
      "text/plain": [
       "2.7000000000000006"
      ]
     },
     "metadata": {},
     "output_type": "display_data"
    },
    {
     "data": {
      "text/plain": [
       "9.9"
      ]
     },
     "metadata": {},
     "output_type": "display_data"
    }
   ],
   "source": [
    "q1 = current_movie_data.averageRating.quantile(0.25)  # first quartile\n",
    "q3 = current_movie_data.averageRating.quantile(0.75)  # third quartile\n",
    "IQR = q3 - q1  # IQR\n",
    "lower_threshold = q1 - 1.5 * IQR  # lower threshold\n",
    "upper_threshold = q3 + 1.5 * IQR  # upper threshold\n",
    "display(lower_threshold, upper_threshold)"
   ]
  },
  {
   "cell_type": "markdown",
   "metadata": {},
   "source": [
    "<hr>\n",
    "\n",
    "### Determine What Genres to Include\n",
    "\n",
    "Currently all genres for a movie title are comma separated into one column. Next will [Tidy the Data](https://www.jstatsoft.org/article/view/v059i10) by separating each genre into it's own column with a boolean value."
   ]
  },
  {
   "cell_type": "code",
   "execution_count": 56,
   "metadata": {},
   "outputs": [],
   "source": [
    "# Used for Proof of Concept\n",
    "#current_movie_data.to_csv(\"current_movie_data.csv\", sep='\\t', index=False)"
   ]
  },
  {
   "cell_type": "code",
   "execution_count": 169,
   "metadata": {},
   "outputs": [],
   "source": [
    "movies_genres_list = current_movie_data['genres'].tolist()\n",
    "\n",
    "# convert all values to a string and return the map as a list\n",
    "# source: https://stackoverflow.com/a/1303354\n",
    "movies_genres_list = list(map(str, movies_genres_list))\n",
    "\n",
    "#movies_genres_list"
   ]
  },
  {
   "cell_type": "code",
   "execution_count": 170,
   "metadata": {},
   "outputs": [],
   "source": [
    "def get_genres(comma_list):\n",
    "    '''Returns a sorted list of genres from the dataset'''\n",
    "    genre_dict = dict()  # { key='genre': val='count' }\n",
    "    genre_list = list()\n",
    "    \n",
    "    for index, val in enumerate(comma_list):\n",
    "        # create a list of lists for each movie entry\n",
    "        split_list = comma_list[index].split(',')\n",
    "        \n",
    "        # store each genre as one entry in the dictionary\n",
    "        for index, val in enumerate(split_list):\n",
    "            genre_dict[val] = genre_dict.get(val, 0) + 1\n",
    "    \n",
    "    return convert_dict_to_string(genre_dict)\n",
    "\n",
    "\n",
    "def convert_dict_to_string(dictionary):\n",
    "    '''Sorts a dictionary into a list of sorted keys'''\n",
    "    sortedList = list()\n",
    "    \n",
    "    # Create a list of keys\n",
    "    for key, val in dictionary.items():\n",
    "        sortedList.append(key)\n",
    "    \n",
    "    sortedList.sort()\n",
    "    \n",
    "    return sortedList\n",
    "\n",
    "\n",
    "genres_list = get_genres(movies_genres_list)"
   ]
  },
  {
   "cell_type": "code",
   "execution_count": 171,
   "metadata": {},
   "outputs": [],
   "source": [
    "# create a new subset of data for when we explode the genre columns\n",
    "movie_data_expanded = current_movie_data.copy()\n",
    "\n",
    "# convert the NaN values to a string so they are not a float value & throw an error\n",
    "movie_data_expanded['genres'] = movie_data_expanded.genres.fillna('')"
   ]
  },
  {
   "cell_type": "code",
   "execution_count": 172,
   "metadata": {},
   "outputs": [
    {
     "name": "stdout",
     "output_type": "stream",
     "text": [
      "Number of genres: 28\n",
      "Action\n",
      "Adult\n",
      "Adventure\n",
      "Animation\n",
      "Biography\n",
      "Comedy\n",
      "Crime\n",
      "Documentary\n",
      "Drama\n",
      "Family\n",
      "Fantasy\n",
      "Game-Show\n",
      "History\n",
      "Horror\n",
      "Music\n",
      "Musical\n",
      "Mystery\n",
      "News\n",
      "Reality-TV\n",
      "Romance\n",
      "Sci-Fi\n",
      "Short\n",
      "Sport\n",
      "Talk-Show\n",
      "Thriller\n",
      "War\n",
      "Western\n",
      "nan\n"
     ]
    },
    {
     "data": {
      "text/html": [
       "<div>\n",
       "<style scoped>\n",
       "    .dataframe tbody tr th:only-of-type {\n",
       "        vertical-align: middle;\n",
       "    }\n",
       "\n",
       "    .dataframe tbody tr th {\n",
       "        vertical-align: top;\n",
       "    }\n",
       "\n",
       "    .dataframe thead th {\n",
       "        text-align: right;\n",
       "    }\n",
       "</style>\n",
       "<table border=\"1\" class=\"dataframe\">\n",
       "  <thead>\n",
       "    <tr style=\"text-align: right;\">\n",
       "      <th></th>\n",
       "      <th>tconst</th>\n",
       "      <th>primaryTitle</th>\n",
       "      <th>originalTitle</th>\n",
       "      <th>startYear</th>\n",
       "      <th>runtimeMinutes</th>\n",
       "      <th>genres</th>\n",
       "      <th>averageRating</th>\n",
       "      <th>numVotes</th>\n",
       "      <th>Action</th>\n",
       "      <th>Adult</th>\n",
       "      <th>...</th>\n",
       "      <th>Reality-TV</th>\n",
       "      <th>Romance</th>\n",
       "      <th>Sci-Fi</th>\n",
       "      <th>Short</th>\n",
       "      <th>Sport</th>\n",
       "      <th>Talk-Show</th>\n",
       "      <th>Thriller</th>\n",
       "      <th>War</th>\n",
       "      <th>Western</th>\n",
       "      <th>nan</th>\n",
       "    </tr>\n",
       "  </thead>\n",
       "  <tbody>\n",
       "    <tr>\n",
       "      <th>3426</th>\n",
       "      <td>tt0015724</td>\n",
       "      <td>Dama de noche</td>\n",
       "      <td>Dama de noche</td>\n",
       "      <td>1993</td>\n",
       "      <td>102</td>\n",
       "      <td>Drama,Mystery,Romance</td>\n",
       "      <td>6.2</td>\n",
       "      <td>19</td>\n",
       "      <td>False</td>\n",
       "      <td>False</td>\n",
       "      <td>...</td>\n",
       "      <td>False</td>\n",
       "      <td>True</td>\n",
       "      <td>False</td>\n",
       "      <td>False</td>\n",
       "      <td>False</td>\n",
       "      <td>False</td>\n",
       "      <td>False</td>\n",
       "      <td>False</td>\n",
       "      <td>False</td>\n",
       "      <td>False</td>\n",
       "    </tr>\n",
       "    <tr>\n",
       "      <th>6889</th>\n",
       "      <td>tt0023331</td>\n",
       "      <td>Pesn o geroyakh</td>\n",
       "      <td>Pesn o geroyakh</td>\n",
       "      <td>1983</td>\n",
       "      <td>50</td>\n",
       "      <td>Documentary</td>\n",
       "      <td>6.8</td>\n",
       "      <td>66</td>\n",
       "      <td>False</td>\n",
       "      <td>False</td>\n",
       "      <td>...</td>\n",
       "      <td>False</td>\n",
       "      <td>False</td>\n",
       "      <td>False</td>\n",
       "      <td>False</td>\n",
       "      <td>False</td>\n",
       "      <td>False</td>\n",
       "      <td>False</td>\n",
       "      <td>False</td>\n",
       "      <td>False</td>\n",
       "      <td>False</td>\n",
       "    </tr>\n",
       "    <tr>\n",
       "      <th>15915</th>\n",
       "      <td>tt0035423</td>\n",
       "      <td>Kate &amp; Leopold</td>\n",
       "      <td>Kate &amp; Leopold</td>\n",
       "      <td>2001</td>\n",
       "      <td>118</td>\n",
       "      <td>Comedy,Fantasy,Romance</td>\n",
       "      <td>6.4</td>\n",
       "      <td>71535</td>\n",
       "      <td>False</td>\n",
       "      <td>False</td>\n",
       "      <td>...</td>\n",
       "      <td>False</td>\n",
       "      <td>True</td>\n",
       "      <td>False</td>\n",
       "      <td>False</td>\n",
       "      <td>False</td>\n",
       "      <td>False</td>\n",
       "      <td>False</td>\n",
       "      <td>False</td>\n",
       "      <td>False</td>\n",
       "      <td>False</td>\n",
       "    </tr>\n",
       "    <tr>\n",
       "      <th>16861</th>\n",
       "      <td>tt0036606</td>\n",
       "      <td>Another Time, Another Place</td>\n",
       "      <td>Another Time, Another Place</td>\n",
       "      <td>1983</td>\n",
       "      <td>118</td>\n",
       "      <td>Drama</td>\n",
       "      <td>6.6</td>\n",
       "      <td>209</td>\n",
       "      <td>False</td>\n",
       "      <td>False</td>\n",
       "      <td>...</td>\n",
       "      <td>False</td>\n",
       "      <td>False</td>\n",
       "      <td>False</td>\n",
       "      <td>False</td>\n",
       "      <td>False</td>\n",
       "      <td>False</td>\n",
       "      <td>False</td>\n",
       "      <td>False</td>\n",
       "      <td>False</td>\n",
       "      <td>False</td>\n",
       "    </tr>\n",
       "    <tr>\n",
       "      <th>33746</th>\n",
       "      <td>tt0057461</td>\n",
       "      <td>La rosa de los vientos</td>\n",
       "      <td>La rosa de los vientos</td>\n",
       "      <td>1983</td>\n",
       "      <td>84</td>\n",
       "      <td></td>\n",
       "      <td>4.1</td>\n",
       "      <td>10</td>\n",
       "      <td>False</td>\n",
       "      <td>False</td>\n",
       "      <td>...</td>\n",
       "      <td>False</td>\n",
       "      <td>False</td>\n",
       "      <td>False</td>\n",
       "      <td>False</td>\n",
       "      <td>False</td>\n",
       "      <td>False</td>\n",
       "      <td>False</td>\n",
       "      <td>False</td>\n",
       "      <td>False</td>\n",
       "      <td>False</td>\n",
       "    </tr>\n",
       "  </tbody>\n",
       "</table>\n",
       "<p>5 rows × 36 columns</p>\n",
       "</div>"
      ],
      "text/plain": [
       "          tconst                 primaryTitle                originalTitle  \\\n",
       "3426   tt0015724                Dama de noche                Dama de noche   \n",
       "6889   tt0023331              Pesn o geroyakh              Pesn o geroyakh   \n",
       "15915  tt0035423               Kate & Leopold               Kate & Leopold   \n",
       "16861  tt0036606  Another Time, Another Place  Another Time, Another Place   \n",
       "33746  tt0057461       La rosa de los vientos       La rosa de los vientos   \n",
       "\n",
       "       startYear  runtimeMinutes                  genres  averageRating  \\\n",
       "3426        1993             102   Drama,Mystery,Romance            6.2   \n",
       "6889        1983              50             Documentary            6.8   \n",
       "15915       2001             118  Comedy,Fantasy,Romance            6.4   \n",
       "16861       1983             118                   Drama            6.6   \n",
       "33746       1983              84                                    4.1   \n",
       "\n",
       "       numVotes Action  Adult  ...   Reality-TV Romance Sci-Fi  Short  Sport  \\\n",
       "3426         19  False  False  ...        False    True  False  False  False   \n",
       "6889         66  False  False  ...        False   False  False  False  False   \n",
       "15915     71535  False  False  ...        False    True  False  False  False   \n",
       "16861       209  False  False  ...        False   False  False  False  False   \n",
       "33746        10  False  False  ...        False   False  False  False  False   \n",
       "\n",
       "      Talk-Show Thriller    War Western    nan  \n",
       "3426      False    False  False   False  False  \n",
       "6889      False    False  False   False  False  \n",
       "15915     False    False  False   False  False  \n",
       "16861     False    False  False   False  False  \n",
       "33746     False    False  False   False  False  \n",
       "\n",
       "[5 rows x 36 columns]"
      ]
     },
     "execution_count": 172,
     "metadata": {},
     "output_type": "execute_result"
    }
   ],
   "source": [
    "def find_Value(value, subString):\n",
    "    if subString in value:\n",
    "        return True\n",
    "    else:\n",
    "        return False\n",
    "\n",
    "def split_genre_columns(list_of_genres):\n",
    "    '''Explodes the genres column where there is one new column for each genre in the dataset.\n",
    "       Each new column has a True/False value that corresponds to the genres column.'''\n",
    "    print('Number of genres:', len(list_of_genres))\n",
    "    for index, val in enumerate(list_of_genres):\n",
    "        print(list_of_genres[index])\n",
    "        movie_data_expanded[list_of_genres[index]] = movie_data_expanded.apply(lambda x: find_Value(x['genres'], list_of_genres[index]), axis=1)\n",
    "        \n",
    "        # convert the column to datatype of string\n",
    "        movie_data_expanded[list_of_genres[index]] = movie_data_expanded[list_of_genres[index]].astype(str)\n",
    "        movie_data_expanded[list_of_genres[index]].str.strip()\n",
    "        \n",
    "split_genre_columns(genres_list)  #explode the genre columns\n",
    "movie_data_expanded.head()"
   ]
  },
  {
   "cell_type": "code",
   "execution_count": 173,
   "metadata": {},
   "outputs": [
    {
     "data": {
      "text/plain": [
       "array(['False'], dtype=object)"
      ]
     },
     "execution_count": 173,
     "metadata": {},
     "output_type": "execute_result"
    }
   ],
   "source": [
    "movie_data_expanded.nan.unique()"
   ]
  },
  {
   "cell_type": "markdown",
   "metadata": {},
   "source": [
    "**Decision Needed:** Could keep or remove the `nan` column from the resulting genre list. If kept, it would need to be updated to be `True` for everywhere there is a `''` value in the `genres` column."
   ]
  },
  {
   "cell_type": "code",
   "execution_count": 174,
   "metadata": {},
   "outputs": [],
   "source": [
    "# source: https://stackoverflow.com/a/19226617\n",
    "movie_data_expanded.loc[movie_data_expanded.genres == '', 'nan'] = 'True'"
   ]
  },
  {
   "cell_type": "code",
   "execution_count": 175,
   "metadata": {},
   "outputs": [
    {
     "data": {
      "text/plain": [
       "    8296\n",
       "Name: genres, dtype: int64"
      ]
     },
     "execution_count": 175,
     "metadata": {},
     "output_type": "execute_result"
    }
   ],
   "source": [
    "# double check the same number of null values exist as before\n",
    "movie_data_expanded[movie_data_expanded.genres == ''].genres.value_counts()"
   ]
  },
  {
   "cell_type": "code",
   "execution_count": 176,
   "metadata": {},
   "outputs": [
    {
     "data": {
      "text/plain": [
       "False    145038\n",
       "True       8296\n",
       "Name: nan, dtype: int64"
      ]
     },
     "execution_count": 176,
     "metadata": {},
     "output_type": "execute_result"
    }
   ],
   "source": [
    "movie_data_expanded.nan.value_counts()"
   ]
  },
  {
   "cell_type": "code",
   "execution_count": 177,
   "metadata": {},
   "outputs": [
    {
     "data": {
      "text/html": [
       "<div>\n",
       "<style scoped>\n",
       "    .dataframe tbody tr th:only-of-type {\n",
       "        vertical-align: middle;\n",
       "    }\n",
       "\n",
       "    .dataframe tbody tr th {\n",
       "        vertical-align: top;\n",
       "    }\n",
       "\n",
       "    .dataframe thead th {\n",
       "        text-align: right;\n",
       "    }\n",
       "</style>\n",
       "<table border=\"1\" class=\"dataframe\">\n",
       "  <thead>\n",
       "    <tr style=\"text-align: right;\">\n",
       "      <th></th>\n",
       "      <th>tconst</th>\n",
       "      <th>primaryTitle</th>\n",
       "      <th>originalTitle</th>\n",
       "      <th>startYear</th>\n",
       "      <th>runtimeMinutes</th>\n",
       "      <th>genres</th>\n",
       "      <th>averageRating</th>\n",
       "      <th>numVotes</th>\n",
       "      <th>Action</th>\n",
       "      <th>Adult</th>\n",
       "      <th>...</th>\n",
       "      <th>Reality-TV</th>\n",
       "      <th>Romance</th>\n",
       "      <th>Sci-Fi</th>\n",
       "      <th>Short</th>\n",
       "      <th>Sport</th>\n",
       "      <th>Talk-Show</th>\n",
       "      <th>Thriller</th>\n",
       "      <th>War</th>\n",
       "      <th>Western</th>\n",
       "      <th>nan</th>\n",
       "    </tr>\n",
       "  </thead>\n",
       "  <tbody>\n",
       "    <tr>\n",
       "      <th>33746</th>\n",
       "      <td>tt0057461</td>\n",
       "      <td>La rosa de los vientos</td>\n",
       "      <td>La rosa de los vientos</td>\n",
       "      <td>1983</td>\n",
       "      <td>84</td>\n",
       "      <td></td>\n",
       "      <td>4.1</td>\n",
       "      <td>10</td>\n",
       "      <td>False</td>\n",
       "      <td>False</td>\n",
       "      <td>...</td>\n",
       "      <td>False</td>\n",
       "      <td>False</td>\n",
       "      <td>False</td>\n",
       "      <td>False</td>\n",
       "      <td>False</td>\n",
       "      <td>False</td>\n",
       "      <td>False</td>\n",
       "      <td>False</td>\n",
       "      <td>False</td>\n",
       "      <td>True</td>\n",
       "    </tr>\n",
       "    <tr>\n",
       "      <th>48423</th>\n",
       "      <td>tt0074994</td>\n",
       "      <td>Tempyo no iraka</td>\n",
       "      <td>Tempyo no iraka</td>\n",
       "      <td>1980</td>\n",
       "      <td>120</td>\n",
       "      <td></td>\n",
       "      <td>6.2</td>\n",
       "      <td>8</td>\n",
       "      <td>False</td>\n",
       "      <td>False</td>\n",
       "      <td>...</td>\n",
       "      <td>False</td>\n",
       "      <td>False</td>\n",
       "      <td>False</td>\n",
       "      <td>False</td>\n",
       "      <td>False</td>\n",
       "      <td>False</td>\n",
       "      <td>False</td>\n",
       "      <td>False</td>\n",
       "      <td>False</td>\n",
       "      <td>True</td>\n",
       "    </tr>\n",
       "    <tr>\n",
       "      <th>49497</th>\n",
       "      <td>tt0076322</td>\n",
       "      <td>Llocsi caimanta</td>\n",
       "      <td>Llocsi caimanta</td>\n",
       "      <td>1981</td>\n",
       "      <td>100</td>\n",
       "      <td></td>\n",
       "      <td>6.6</td>\n",
       "      <td>7</td>\n",
       "      <td>False</td>\n",
       "      <td>False</td>\n",
       "      <td>...</td>\n",
       "      <td>False</td>\n",
       "      <td>False</td>\n",
       "      <td>False</td>\n",
       "      <td>False</td>\n",
       "      <td>False</td>\n",
       "      <td>False</td>\n",
       "      <td>False</td>\n",
       "      <td>False</td>\n",
       "      <td>False</td>\n",
       "      <td>True</td>\n",
       "    </tr>\n",
       "    <tr>\n",
       "      <th>50163</th>\n",
       "      <td>tt0077133</td>\n",
       "      <td>Ai yu kuang chao</td>\n",
       "      <td>Ai yu kuang chao</td>\n",
       "      <td>1982</td>\n",
       "      <td>92</td>\n",
       "      <td></td>\n",
       "      <td>5.2</td>\n",
       "      <td>5</td>\n",
       "      <td>False</td>\n",
       "      <td>False</td>\n",
       "      <td>...</td>\n",
       "      <td>False</td>\n",
       "      <td>False</td>\n",
       "      <td>False</td>\n",
       "      <td>False</td>\n",
       "      <td>False</td>\n",
       "      <td>False</td>\n",
       "      <td>False</td>\n",
       "      <td>False</td>\n",
       "      <td>False</td>\n",
       "      <td>True</td>\n",
       "    </tr>\n",
       "    <tr>\n",
       "      <th>50357</th>\n",
       "      <td>tt0077367</td>\n",
       "      <td>Consultorio sexológico</td>\n",
       "      <td>Consultorio sexológico</td>\n",
       "      <td>1980</td>\n",
       "      <td>0</td>\n",
       "      <td></td>\n",
       "      <td>5.6</td>\n",
       "      <td>7</td>\n",
       "      <td>False</td>\n",
       "      <td>False</td>\n",
       "      <td>...</td>\n",
       "      <td>False</td>\n",
       "      <td>False</td>\n",
       "      <td>False</td>\n",
       "      <td>False</td>\n",
       "      <td>False</td>\n",
       "      <td>False</td>\n",
       "      <td>False</td>\n",
       "      <td>False</td>\n",
       "      <td>False</td>\n",
       "      <td>True</td>\n",
       "    </tr>\n",
       "  </tbody>\n",
       "</table>\n",
       "<p>5 rows × 36 columns</p>\n",
       "</div>"
      ],
      "text/plain": [
       "          tconst            primaryTitle           originalTitle  startYear  \\\n",
       "33746  tt0057461  La rosa de los vientos  La rosa de los vientos       1983   \n",
       "48423  tt0074994         Tempyo no iraka         Tempyo no iraka       1980   \n",
       "49497  tt0076322         Llocsi caimanta         Llocsi caimanta       1981   \n",
       "50163  tt0077133        Ai yu kuang chao        Ai yu kuang chao       1982   \n",
       "50357  tt0077367  Consultorio sexológico  Consultorio sexológico       1980   \n",
       "\n",
       "       runtimeMinutes genres  averageRating  numVotes Action  Adult  ...   \\\n",
       "33746              84                   4.1        10  False  False  ...    \n",
       "48423             120                   6.2         8  False  False  ...    \n",
       "49497             100                   6.6         7  False  False  ...    \n",
       "50163              92                   5.2         5  False  False  ...    \n",
       "50357               0                   5.6         7  False  False  ...    \n",
       "\n",
       "      Reality-TV Romance Sci-Fi  Short  Sport Talk-Show Thriller    War  \\\n",
       "33746      False   False  False  False  False     False    False  False   \n",
       "48423      False   False  False  False  False     False    False  False   \n",
       "49497      False   False  False  False  False     False    False  False   \n",
       "50163      False   False  False  False  False     False    False  False   \n",
       "50357      False   False  False  False  False     False    False  False   \n",
       "\n",
       "      Western   nan  \n",
       "33746   False  True  \n",
       "48423   False  True  \n",
       "49497   False  True  \n",
       "50163   False  True  \n",
       "50357   False  True  \n",
       "\n",
       "[5 rows x 36 columns]"
      ]
     },
     "execution_count": 177,
     "metadata": {},
     "output_type": "execute_result"
    }
   ],
   "source": [
    "movie_data_expanded[movie_data_expanded.nan == 'True'].head()"
   ]
  },
  {
   "cell_type": "markdown",
   "metadata": {},
   "source": [
    "#### Determine Stats For Each Genre"
   ]
  },
  {
   "cell_type": "code",
   "execution_count": 187,
   "metadata": {},
   "outputs": [],
   "source": [
    "#genres_series = pd.Series(genres_list, name='genres')\n",
    "\n",
    "genre_avg = pd.DataFrame(columns = ['genre', 'averageRating', 'max', 'min', 'count', 'stdDev', 'numVotes', 'avgRuntimeMinutes'])"
   ]
  },
  {
   "cell_type": "code",
   "execution_count": 188,
   "metadata": {},
   "outputs": [
    {
     "data": {
      "text/html": [
       "<div>\n",
       "<style scoped>\n",
       "    .dataframe tbody tr th:only-of-type {\n",
       "        vertical-align: middle;\n",
       "    }\n",
       "\n",
       "    .dataframe tbody tr th {\n",
       "        vertical-align: top;\n",
       "    }\n",
       "\n",
       "    .dataframe thead th {\n",
       "        text-align: right;\n",
       "    }\n",
       "</style>\n",
       "<table border=\"1\" class=\"dataframe\">\n",
       "  <thead>\n",
       "    <tr style=\"text-align: right;\">\n",
       "      <th></th>\n",
       "      <th>genre</th>\n",
       "      <th>averageRating</th>\n",
       "      <th>max</th>\n",
       "      <th>min</th>\n",
       "      <th>count</th>\n",
       "      <th>stdDev</th>\n",
       "      <th>numVotes</th>\n",
       "      <th>avgRuntimeMinutes</th>\n",
       "    </tr>\n",
       "  </thead>\n",
       "  <tbody>\n",
       "    <tr>\n",
       "      <th>0</th>\n",
       "      <td>Action</td>\n",
       "      <td>5.707154</td>\n",
       "      <td>9.8</td>\n",
       "      <td>1.0</td>\n",
       "      <td>16621</td>\n",
       "      <td>1.427061</td>\n",
       "      <td>11815.585404</td>\n",
       "      <td>88.780579</td>\n",
       "    </tr>\n",
       "    <tr>\n",
       "      <th>1</th>\n",
       "      <td>Adult</td>\n",
       "      <td>5.272727</td>\n",
       "      <td>6.7</td>\n",
       "      <td>3.3</td>\n",
       "      <td>11</td>\n",
       "      <td>1.212511</td>\n",
       "      <td>22.636364</td>\n",
       "      <td>70.181818</td>\n",
       "    </tr>\n",
       "    <tr>\n",
       "      <th>2</th>\n",
       "      <td>Adventure</td>\n",
       "      <td>6.058201</td>\n",
       "      <td>10.0</td>\n",
       "      <td>1.0</td>\n",
       "      <td>7414</td>\n",
       "      <td>1.444367</td>\n",
       "      <td>23313.457243</td>\n",
       "      <td>89.568384</td>\n",
       "    </tr>\n",
       "    <tr>\n",
       "      <th>3</th>\n",
       "      <td>Animation</td>\n",
       "      <td>6.397073</td>\n",
       "      <td>9.4</td>\n",
       "      <td>1.1</td>\n",
       "      <td>3143</td>\n",
       "      <td>1.204838</td>\n",
       "      <td>11754.316577</td>\n",
       "      <td>76.777283</td>\n",
       "    </tr>\n",
       "    <tr>\n",
       "      <th>4</th>\n",
       "      <td>Biography</td>\n",
       "      <td>7.138256</td>\n",
       "      <td>10.0</td>\n",
       "      <td>1.1</td>\n",
       "      <td>5288</td>\n",
       "      <td>1.060437</td>\n",
       "      <td>7309.499811</td>\n",
       "      <td>90.233169</td>\n",
       "    </tr>\n",
       "    <tr>\n",
       "      <th>5</th>\n",
       "      <td>Comedy</td>\n",
       "      <td>5.971291</td>\n",
       "      <td>10.0</td>\n",
       "      <td>1.0</td>\n",
       "      <td>37825</td>\n",
       "      <td>1.345331</td>\n",
       "      <td>5035.697660</td>\n",
       "      <td>85.504296</td>\n",
       "    </tr>\n",
       "    <tr>\n",
       "      <th>6</th>\n",
       "      <td>Crime</td>\n",
       "      <td>6.049714</td>\n",
       "      <td>9.8</td>\n",
       "      <td>1.1</td>\n",
       "      <td>11377</td>\n",
       "      <td>1.277993</td>\n",
       "      <td>10646.852597</td>\n",
       "      <td>92.699218</td>\n",
       "    </tr>\n",
       "    <tr>\n",
       "      <th>7</th>\n",
       "      <td>Documentary</td>\n",
       "      <td>7.336123</td>\n",
       "      <td>10.0</td>\n",
       "      <td>1.0</td>\n",
       "      <td>27326</td>\n",
       "      <td>1.085979</td>\n",
       "      <td>283.994181</td>\n",
       "      <td>75.918283</td>\n",
       "    </tr>\n",
       "    <tr>\n",
       "      <th>8</th>\n",
       "      <td>Drama</td>\n",
       "      <td>6.356956</td>\n",
       "      <td>10.0</td>\n",
       "      <td>1.0</td>\n",
       "      <td>65073</td>\n",
       "      <td>1.228570</td>\n",
       "      <td>4679.465523</td>\n",
       "      <td>90.674043</td>\n",
       "    </tr>\n",
       "    <tr>\n",
       "      <th>9</th>\n",
       "      <td>Family</td>\n",
       "      <td>6.273410</td>\n",
       "      <td>10.0</td>\n",
       "      <td>1.0</td>\n",
       "      <td>6228</td>\n",
       "      <td>1.360668</td>\n",
       "      <td>5045.481696</td>\n",
       "      <td>85.017823</td>\n",
       "    </tr>\n",
       "    <tr>\n",
       "      <th>10</th>\n",
       "      <td>Fantasy</td>\n",
       "      <td>5.918774</td>\n",
       "      <td>9.6</td>\n",
       "      <td>1.1</td>\n",
       "      <td>4666</td>\n",
       "      <td>1.366365</td>\n",
       "      <td>14994.450279</td>\n",
       "      <td>87.638448</td>\n",
       "    </tr>\n",
       "    <tr>\n",
       "      <th>11</th>\n",
       "      <td>Game-Show</td>\n",
       "      <td>5.700000</td>\n",
       "      <td>7.6</td>\n",
       "      <td>3.3</td>\n",
       "      <td>5</td>\n",
       "      <td>1.601562</td>\n",
       "      <td>118.000000</td>\n",
       "      <td>173.000000</td>\n",
       "    </tr>\n",
       "    <tr>\n",
       "      <th>12</th>\n",
       "      <td>History</td>\n",
       "      <td>7.031440</td>\n",
       "      <td>10.0</td>\n",
       "      <td>1.1</td>\n",
       "      <td>4103</td>\n",
       "      <td>1.130910</td>\n",
       "      <td>4910.654155</td>\n",
       "      <td>92.995369</td>\n",
       "    </tr>\n",
       "    <tr>\n",
       "      <th>13</th>\n",
       "      <td>Horror</td>\n",
       "      <td>5.077506</td>\n",
       "      <td>9.8</td>\n",
       "      <td>1.0</td>\n",
       "      <td>12492</td>\n",
       "      <td>1.418026</td>\n",
       "      <td>4428.467899</td>\n",
       "      <td>81.147534</td>\n",
       "    </tr>\n",
       "    <tr>\n",
       "      <th>14</th>\n",
       "      <td>Music</td>\n",
       "      <td>6.770777</td>\n",
       "      <td>10.0</td>\n",
       "      <td>1.0</td>\n",
       "      <td>5506</td>\n",
       "      <td>1.391542</td>\n",
       "      <td>2978.870323</td>\n",
       "      <td>89.323465</td>\n",
       "    </tr>\n",
       "    <tr>\n",
       "      <th>15</th>\n",
       "      <td>Musical</td>\n",
       "      <td>6.295535</td>\n",
       "      <td>9.6</td>\n",
       "      <td>1.2</td>\n",
       "      <td>1926</td>\n",
       "      <td>1.461823</td>\n",
       "      <td>2249.414849</td>\n",
       "      <td>91.340602</td>\n",
       "    </tr>\n",
       "    <tr>\n",
       "      <th>16</th>\n",
       "      <td>Mystery</td>\n",
       "      <td>5.953076</td>\n",
       "      <td>9.9</td>\n",
       "      <td>1.0</td>\n",
       "      <td>5396</td>\n",
       "      <td>1.314910</td>\n",
       "      <td>11053.747220</td>\n",
       "      <td>91.384359</td>\n",
       "    </tr>\n",
       "    <tr>\n",
       "      <th>17</th>\n",
       "      <td>News</td>\n",
       "      <td>7.319205</td>\n",
       "      <td>9.4</td>\n",
       "      <td>2.0</td>\n",
       "      <td>604</td>\n",
       "      <td>1.035135</td>\n",
       "      <td>253.970199</td>\n",
       "      <td>77.776490</td>\n",
       "    </tr>\n",
       "    <tr>\n",
       "      <th>18</th>\n",
       "      <td>Reality-TV</td>\n",
       "      <td>6.366667</td>\n",
       "      <td>9.1</td>\n",
       "      <td>2.7</td>\n",
       "      <td>21</td>\n",
       "      <td>2.036500</td>\n",
       "      <td>53.142857</td>\n",
       "      <td>60.285714</td>\n",
       "    </tr>\n",
       "    <tr>\n",
       "      <th>19</th>\n",
       "      <td>Romance</td>\n",
       "      <td>6.142127</td>\n",
       "      <td>9.8</td>\n",
       "      <td>1.0</td>\n",
       "      <td>15515</td>\n",
       "      <td>1.207942</td>\n",
       "      <td>5337.223397</td>\n",
       "      <td>92.211988</td>\n",
       "    </tr>\n",
       "    <tr>\n",
       "      <th>20</th>\n",
       "      <td>Sci-Fi</td>\n",
       "      <td>5.369357</td>\n",
       "      <td>10.0</td>\n",
       "      <td>1.0</td>\n",
       "      <td>4311</td>\n",
       "      <td>1.480243</td>\n",
       "      <td>19933.152169</td>\n",
       "      <td>85.648805</td>\n",
       "    </tr>\n",
       "    <tr>\n",
       "      <th>21</th>\n",
       "      <td>Short</td>\n",
       "      <td>5.200000</td>\n",
       "      <td>5.2</td>\n",
       "      <td>5.2</td>\n",
       "      <td>1</td>\n",
       "      <td>NaN</td>\n",
       "      <td>28.000000</td>\n",
       "      <td>10.000000</td>\n",
       "    </tr>\n",
       "    <tr>\n",
       "      <th>22</th>\n",
       "      <td>Sport</td>\n",
       "      <td>6.749921</td>\n",
       "      <td>9.9</td>\n",
       "      <td>1.2</td>\n",
       "      <td>1907</td>\n",
       "      <td>1.359435</td>\n",
       "      <td>5872.005244</td>\n",
       "      <td>87.722077</td>\n",
       "    </tr>\n",
       "    <tr>\n",
       "      <th>23</th>\n",
       "      <td>Talk-Show</td>\n",
       "      <td>8.050000</td>\n",
       "      <td>9.6</td>\n",
       "      <td>5.7</td>\n",
       "      <td>4</td>\n",
       "      <td>1.662328</td>\n",
       "      <td>172.000000</td>\n",
       "      <td>85.000000</td>\n",
       "    </tr>\n",
       "    <tr>\n",
       "      <th>24</th>\n",
       "      <td>Thriller</td>\n",
       "      <td>5.639924</td>\n",
       "      <td>9.6</td>\n",
       "      <td>1.0</td>\n",
       "      <td>14688</td>\n",
       "      <td>1.374767</td>\n",
       "      <td>7670.941925</td>\n",
       "      <td>88.644608</td>\n",
       "    </tr>\n",
       "    <tr>\n",
       "      <th>25</th>\n",
       "      <td>War</td>\n",
       "      <td>6.595314</td>\n",
       "      <td>10.0</td>\n",
       "      <td>1.2</td>\n",
       "      <td>2262</td>\n",
       "      <td>1.254475</td>\n",
       "      <td>5062.405393</td>\n",
       "      <td>97.454465</td>\n",
       "    </tr>\n",
       "    <tr>\n",
       "      <th>26</th>\n",
       "      <td>Western</td>\n",
       "      <td>5.838951</td>\n",
       "      <td>9.3</td>\n",
       "      <td>1.4</td>\n",
       "      <td>534</td>\n",
       "      <td>1.530190</td>\n",
       "      <td>6559.655431</td>\n",
       "      <td>87.451311</td>\n",
       "    </tr>\n",
       "    <tr>\n",
       "      <th>27</th>\n",
       "      <td>nan</td>\n",
       "      <td>6.201977</td>\n",
       "      <td>10.0</td>\n",
       "      <td>1.0</td>\n",
       "      <td>8296</td>\n",
       "      <td>1.448154</td>\n",
       "      <td>24.576663</td>\n",
       "      <td>50.305569</td>\n",
       "    </tr>\n",
       "  </tbody>\n",
       "</table>\n",
       "</div>"
      ],
      "text/plain": [
       "          genre  averageRating   max  min  count    stdDev      numVotes  \\\n",
       "0        Action       5.707154   9.8  1.0  16621  1.427061  11815.585404   \n",
       "1         Adult       5.272727   6.7  3.3     11  1.212511     22.636364   \n",
       "2     Adventure       6.058201  10.0  1.0   7414  1.444367  23313.457243   \n",
       "3     Animation       6.397073   9.4  1.1   3143  1.204838  11754.316577   \n",
       "4     Biography       7.138256  10.0  1.1   5288  1.060437   7309.499811   \n",
       "5        Comedy       5.971291  10.0  1.0  37825  1.345331   5035.697660   \n",
       "6         Crime       6.049714   9.8  1.1  11377  1.277993  10646.852597   \n",
       "7   Documentary       7.336123  10.0  1.0  27326  1.085979    283.994181   \n",
       "8         Drama       6.356956  10.0  1.0  65073  1.228570   4679.465523   \n",
       "9        Family       6.273410  10.0  1.0   6228  1.360668   5045.481696   \n",
       "10      Fantasy       5.918774   9.6  1.1   4666  1.366365  14994.450279   \n",
       "11    Game-Show       5.700000   7.6  3.3      5  1.601562    118.000000   \n",
       "12      History       7.031440  10.0  1.1   4103  1.130910   4910.654155   \n",
       "13       Horror       5.077506   9.8  1.0  12492  1.418026   4428.467899   \n",
       "14        Music       6.770777  10.0  1.0   5506  1.391542   2978.870323   \n",
       "15      Musical       6.295535   9.6  1.2   1926  1.461823   2249.414849   \n",
       "16      Mystery       5.953076   9.9  1.0   5396  1.314910  11053.747220   \n",
       "17         News       7.319205   9.4  2.0    604  1.035135    253.970199   \n",
       "18   Reality-TV       6.366667   9.1  2.7     21  2.036500     53.142857   \n",
       "19      Romance       6.142127   9.8  1.0  15515  1.207942   5337.223397   \n",
       "20       Sci-Fi       5.369357  10.0  1.0   4311  1.480243  19933.152169   \n",
       "21        Short       5.200000   5.2  5.2      1       NaN     28.000000   \n",
       "22        Sport       6.749921   9.9  1.2   1907  1.359435   5872.005244   \n",
       "23    Talk-Show       8.050000   9.6  5.7      4  1.662328    172.000000   \n",
       "24     Thriller       5.639924   9.6  1.0  14688  1.374767   7670.941925   \n",
       "25          War       6.595314  10.0  1.2   2262  1.254475   5062.405393   \n",
       "26      Western       5.838951   9.3  1.4    534  1.530190   6559.655431   \n",
       "27          nan       6.201977  10.0  1.0   8296  1.448154     24.576663   \n",
       "\n",
       "    avgRuntimeMinutes  \n",
       "0           88.780579  \n",
       "1           70.181818  \n",
       "2           89.568384  \n",
       "3           76.777283  \n",
       "4           90.233169  \n",
       "5           85.504296  \n",
       "6           92.699218  \n",
       "7           75.918283  \n",
       "8           90.674043  \n",
       "9           85.017823  \n",
       "10          87.638448  \n",
       "11         173.000000  \n",
       "12          92.995369  \n",
       "13          81.147534  \n",
       "14          89.323465  \n",
       "15          91.340602  \n",
       "16          91.384359  \n",
       "17          77.776490  \n",
       "18          60.285714  \n",
       "19          92.211988  \n",
       "20          85.648805  \n",
       "21          10.000000  \n",
       "22          87.722077  \n",
       "23          85.000000  \n",
       "24          88.644608  \n",
       "25          97.454465  \n",
       "26          87.451311  \n",
       "27          50.305569  "
      ]
     },
     "execution_count": 188,
     "metadata": {},
     "output_type": "execute_result"
    }
   ],
   "source": [
    "def calc_genre_avgs(list_genres):\n",
    "    '''Populate an empty dataframe with calculated values for all genres in the dataset'''\n",
    "    for index, val in enumerate(list_genres):\n",
    "        # mask all data for the current genre\n",
    "        genreData_temp = movie_data_expanded[movie_data_expanded[list_genres[index]] == 'True']\n",
    "        \n",
    "        genre_avg.loc[index] = [list_genres[index], genreData_temp.averageRating.mean(), genreData_temp.averageRating.max(), \n",
    "                                genreData_temp.averageRating.min(), genreData_temp.averageRating.count(),\n",
    "                                genreData_temp.averageRating.std(ddof=1), genreData_temp.numVotes.mean(),\n",
    "                                genreData_temp.runtimeMinutes.mean()]\n",
    "\n",
    "calc_genre_avgs(genres_list)\n",
    "genre_avg"
   ]
  },
  {
   "cell_type": "markdown",
   "metadata": {},
   "source": [
    "Could also consider using the [`groupby()`](https://pandas.pydata.org/pandas-docs/stable/generated/pandas.DataFrame.groupby.html) function."
   ]
  },
  {
   "cell_type": "code",
   "execution_count": 191,
   "metadata": {},
   "outputs": [
    {
     "data": {
      "text/plain": [
       "Action\n",
       "False    6.329239\n",
       "True     5.707154\n",
       "Name: averageRating, dtype: float64"
      ]
     },
     "execution_count": 191,
     "metadata": {},
     "output_type": "execute_result"
    }
   ],
   "source": [
    "movie_data_expanded.groupby(['Action'])['averageRating'].mean()"
   ]
  },
  {
   "cell_type": "code",
   "execution_count": 190,
   "metadata": {
    "scrolled": false
   },
   "outputs": [
    {
     "data": {
      "text/plain": [
       "array([[<matplotlib.axes._subplots.AxesSubplot object at 0x000001F285D3E630>,\n",
       "        <matplotlib.axes._subplots.AxesSubplot object at 0x000001F282E9D278>],\n",
       "       [<matplotlib.axes._subplots.AxesSubplot object at 0x000001F282EBBDD8>,\n",
       "        <matplotlib.axes._subplots.AxesSubplot object at 0x000001F283496978>],\n",
       "       [<matplotlib.axes._subplots.AxesSubplot object at 0x000001F283502518>,\n",
       "        <matplotlib.axes._subplots.AxesSubplot object at 0x000001F283502550>]],\n",
       "      dtype=object)"
      ]
     },
     "execution_count": 190,
     "metadata": {},
     "output_type": "execute_result"
    },
    {
     "data": {
      "image/png": "[encoded data removed]",
      "text/plain": [
       "<matplotlib.figure.Figure at 0x1f2827f0cc0>"
      ]
     },
     "metadata": {},
     "output_type": "display_data"
    }
   ],
   "source": [
    "genre_avg.hist()"
   ]
  },
  {
   "cell_type": "code",
   "execution_count": null,
   "metadata": {},
   "outputs": [],
   "source": [
    "#columns = [genres_series, 'averageRating', 'numVotes', 'runtimeMinutes']\n",
    "\n",
    "#genre_avg = pd.DataFrame\n",
    "\n",
    "#movie_data_expanded[movie_data_expanded.Action == 'True'].head()"
   ]
  },
  {
   "cell_type": "markdown",
   "metadata": {},
   "source": [
    "<hr>\n",
    "\n",
    "### Determine the Target Average Rating"
   ]
  },
  {
   "cell_type": "markdown",
   "metadata": {},
   "source": [
    "<hr>\n",
    "\n",
    "## Model the Data"
   ]
  },
  {
   "cell_type": "markdown",
   "metadata": {},
   "source": [
    "<hr>\n",
    "\n",
    "## Visualize the Results"
   ]
  },
  {
   "cell_type": "code",
   "execution_count": null,
   "metadata": {},
   "outputs": [],
   "source": []
  }
 ],
 "metadata": {
  "kernelspec": {
   "display_name": "Python 3",
   "language": "python",
   "name": "python3"
  },
  "language_info": {
   "codemirror_mode": {
    "name": "ipython",
    "version": 3
   },
   "file_extension": ".py",
   "mimetype": "text/x-python",
   "name": "python",
   "nbconvert_exporter": "python",
   "pygments_lexer": "ipython3",
   "version": "3.6.4"
  }
 },
 "nbformat": 4,
 "nbformat_minor": 2
}
