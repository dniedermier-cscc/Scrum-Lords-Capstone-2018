{
 "cells": [
  {
   "cell_type": "markdown",
   "metadata": {},
   "source": [
    "# Table of Contents\n",
    "\n",
    "* [Data Sources](#Data-Sources)\n",
    "* [Gather the Data](#Gather-the-Data)\n",
    "* [Explore the Data](#Explore-the-Data)\n",
    "    * [Merge the titleBasics and titleRatings Data](#Merge-the-titleBasics-and-titleRatings-Data)\n",
    "    * [Explore titleType From titleBasics](#Explore-titleType-From-titleBasics)\n",
    "    * [Explore Rows with Null Data](#Explore-Rows-with-Null-Data)\n",
    "    * [Determine What Timeframe to Include](#Determine-What-Timeframe-to-Include)\n",
    "    * [Determine What Genres to Include](#Determine-What-Genres-to-Include)\n",
    "    * [Determine the Target Average Rating](#Determine-the-Target-Average-Rating)\n",
    "* [Model the Data](#Model-the-Data)\n",
    "* [Visualize the Results](#Visualize-the-Results)\n",
    "\n",
    "\n",
    "<hr>"
   ]
  },
  {
   "cell_type": "markdown",
   "metadata": {},
   "source": [
    "## Data Sources\n",
    "\n",
    "Description of the IMDB data: https://www.imdb.com/interfaces/\n",
    "\n",
    "IMDB Data Sources: https://datasets.imdbws.com/"
   ]
  },
  {
   "cell_type": "markdown",
   "metadata": {},
   "source": [
    "<hr>\n",
    "\n",
    "## Gather the Data"
   ]
  },
  {
   "cell_type": "code",
   "execution_count": 57,
   "metadata": {},
   "outputs": [],
   "source": [
    "%matplotlib inline\n",
    "\n",
    "import numpy as np\n",
    "import pandas as pd\n",
    "import seaborn as sns\n",
    "import matplotlib.pyplot as plt\n",
    "import statsmodels.api as sm\n",
    "\n",
    "sns.set(rc={'figure.figsize': (12, 10), \"lines.markeredgewidth\": 0.5 })"
   ]
  },
  {
   "cell_type": "code",
   "execution_count": 26,
   "metadata": {},
   "outputs": [
    {
     "data": {
      "text/html": [
       "\n",
       "        <iframe\n",
       "            width=\"800\"\n",
       "            height=\"600\"\n",
       "            src=\"../IMDB Dataset Descriptions.pdf\"\n",
       "            frameborder=\"0\"\n",
       "            allowfullscreen\n",
       "        ></iframe>\n",
       "        "
      ],
      "text/plain": [
       "<IPython.lib.display.IFrame at 0x210318d73c8>"
      ]
     },
     "execution_count": 26,
     "metadata": {},
     "output_type": "execute_result"
    }
   ],
   "source": [
    "# display imdb documentation in the notebook\n",
    "from IPython.display import IFrame\n",
    "IFrame(\"../IMDB Dataset Descriptions.pdf\", 800, 600)"
   ]
  },
  {
   "cell_type": "code",
   "execution_count": 3,
   "metadata": {},
   "outputs": [
    {
     "data": {
      "text/html": [
       "\n",
       "        <iframe\n",
       "            width=\"800\"\n",
       "            height=\"600\"\n",
       "            src=\"../../Presentation/IMDB ERD.pdf\"\n",
       "            frameborder=\"0\"\n",
       "            allowfullscreen\n",
       "        ></iframe>\n",
       "        "
      ],
      "text/plain": [
       "<IPython.lib.display.IFrame at 0x21066cafe48>"
      ]
     },
     "execution_count": 3,
     "metadata": {},
     "output_type": "execute_result"
    }
   ],
   "source": [
    "# display imdb ER Diagram in the notebook\n",
    "from IPython.display import IFrame\n",
    "IFrame(\"../../Presentation/IMDB ERD.pdf\", 800, 600)"
   ]
  },
  {
   "cell_type": "code",
   "execution_count": 4,
   "metadata": {},
   "outputs": [
    {
     "name": "stdout",
     "output_type": "stream",
     "text": [
      "Reading title.basics.tsv\n",
      "      tconst titleType            primaryTitle           originalTitle  \\\n",
      "0  tt0000001     short              Carmencita              Carmencita   \n",
      "1  tt0000002     short  Le clown et ses chiens  Le clown et ses chiens   \n",
      "2  tt0000003     short          Pauvre Pierrot          Pauvre Pierrot   \n",
      "3  tt0000004     short             Un bon bock             Un bon bock   \n",
      "4  tt0000005     short        Blacksmith Scene        Blacksmith Scene   \n",
      "\n",
      "  isAdult startYear endYear runtimeMinutes                    genres  \n",
      "0       0      1894      \\N              1         Documentary,Short  \n",
      "1       0      1892      \\N              5           Animation,Short  \n",
      "2       0      1892      \\N              4  Animation,Comedy,Romance  \n",
      "3       0      1892      \\N             \\N           Animation,Short  \n",
      "4       0      1893      \\N              1                     Short  \n",
      "Reading title.ratings.tsv\n",
      "CompletitleRatingste - 7 of 7\n",
      "      tconst  averageRating  numVotes\n",
      "0  tt0000001            5.8      1393\n",
      "1  tt0000002            6.5       163\n",
      "2  tt0000003            6.6       980\n",
      "3  tt0000004            6.4        98\n",
      "4  tt0000005            6.2      1674\n",
      "\n",
      "-----all data loaded -----\n"
     ]
    }
   ],
   "source": [
    "#===============================================================================\n",
    "#     READ INPUT DATA\n",
    "#===============================================================================\n",
    "\n",
    "#--------------------------------------------------------\n",
    "#--  Input File 1:  name.basics.tsv\n",
    "#--------------------------------------------------------\n",
    "#print('Reading name.basics.tsv')\n",
    "#nameBasics = pd.read_csv(\"./Data/name.basics.tsv/data.tsv\", sep='\\t')\n",
    "#print('Complete - 1 of 7')\n",
    "#print(nameBasics.head(5))\n",
    "\n",
    "#--------------------------------------------------------\n",
    "#--  Input File 2:  title.akas.tsv\n",
    "#--------------------------------------------------------\n",
    "#print('Reading title.akas.tsv')\n",
    "#titleAkas = pd.read_csv(\"./Data/title.akas.tsv/data.tsv\", sep='\\t',dtype={\"titleId\": object, \"ordering\": object, \"title\": object, \"region\": object, \"language\": object, \"types\": object, \"attributes\": object, \"isOriginalTitle\": object})\n",
    "#print('Complete - 2 of 7')\n",
    "#print(titleAkas.head(5))\n",
    "\n",
    "#--------------------------------------------------------\n",
    "#--  Input File 3:  title.basics.tsv\n",
    "#--------------------------------------------------------\n",
    "print('Reading title.basics.tsv')\n",
    "titleBasics = pd.read_csv(\"../Data/title.basics.tsv/data.tsv\", sep='\\t',dtype={\"tconst\": object, \"titleType\": object, \"primaryTitle\": object, \"originalTitle\": object, \"isAdult\": object, \"startYear\": object})\n",
    "#print('Complete - 3 of 7')\n",
    "titleBasics = titleBasics[titleBasics.isAdult == \"0\"]\n",
    "print(titleBasics.head(5))\n",
    "\n",
    "#--------------------------------------------------------\n",
    "#--  Input File 4:  title.crew.tsv\n",
    "#--------------------------------------------------------\n",
    "#print('Reading title.crew.tsv')\n",
    "#titleCrew = pd.read_csv(\"./Data/title.crew.tsv/data.tsv\", sep='\\t')\n",
    "#print('Complete - 4 of 7')\n",
    "#print(titleCrew.head(5))\n",
    "\n",
    "#--------------------------------------------------------\n",
    "#--  Input File 5:  title.episode.tsv\n",
    "#--------------------------------------------------------\n",
    "#print('Reading title.episode.tsv')\n",
    "#titleEpisode = pd.read_csv(\"./Data/title.episode.tsv/data.tsv\", sep='\\t')\n",
    "#print('Complete - 5 of 7')\n",
    "#print(titleEpisode.head(5))\n",
    "\n",
    "#--------------------------------------------------------\n",
    "#--  Input File 6:  title.principals.tsv\n",
    "#--------------------------------------------------------\n",
    "#print('Reading title.principals.tsv')\n",
    "#titlePrincipals = pd.read_csv(\"./Data/title.principals.tsv/data.tsv\", sep='\\t')\n",
    "#print('Complete - 6 of 7')\n",
    "#print(titlePrincipals.head(5))\n",
    "\n",
    "#--------------------------------------------------------\n",
    "#--  Input File 7:  title.ratings.tsv\n",
    "#--------------------------------------------------------\n",
    "print('Reading title.ratings.tsv')\n",
    "titleRatings = pd.read_csv(\"../Data/title.ratings.tsv/data.tsv\", sep='\\t',dtype={\"tconst\": object, \"averageRating\": float, \"numVotes\": int})\n",
    "print('CompletitleRatingste - 7 of 7')\n",
    "print(titleRatings.head(5))\n",
    "\n",
    "print('\\n-----all data loaded -----')"
   ]
  },
  {
   "cell_type": "markdown",
   "metadata": {},
   "source": [
    "<hr>\n",
    "\n",
    "## Explore the Data"
   ]
  },
  {
   "cell_type": "code",
   "execution_count": 5,
   "metadata": {},
   "outputs": [
    {
     "data": {
      "text/html": [
       "<div>\n",
       "<style scoped>\n",
       "    .dataframe tbody tr th:only-of-type {\n",
       "        vertical-align: middle;\n",
       "    }\n",
       "\n",
       "    .dataframe tbody tr th {\n",
       "        vertical-align: top;\n",
       "    }\n",
       "\n",
       "    .dataframe thead th {\n",
       "        text-align: right;\n",
       "    }\n",
       "</style>\n",
       "<table border=\"1\" class=\"dataframe\">\n",
       "  <thead>\n",
       "    <tr style=\"text-align: right;\">\n",
       "      <th></th>\n",
       "      <th>tconst</th>\n",
       "      <th>titleType</th>\n",
       "      <th>primaryTitle</th>\n",
       "      <th>originalTitle</th>\n",
       "      <th>isAdult</th>\n",
       "      <th>startYear</th>\n",
       "      <th>endYear</th>\n",
       "      <th>runtimeMinutes</th>\n",
       "      <th>genres</th>\n",
       "    </tr>\n",
       "  </thead>\n",
       "  <tbody>\n",
       "    <tr>\n",
       "      <th>count</th>\n",
       "      <td>5007799</td>\n",
       "      <td>5007799</td>\n",
       "      <td>5007793</td>\n",
       "      <td>5007793</td>\n",
       "      <td>5007799</td>\n",
       "      <td>5007799</td>\n",
       "      <td>5007799</td>\n",
       "      <td>5007799</td>\n",
       "      <td>5007799</td>\n",
       "    </tr>\n",
       "    <tr>\n",
       "      <th>unique</th>\n",
       "      <td>5007799</td>\n",
       "      <td>10</td>\n",
       "      <td>2597437</td>\n",
       "      <td>2611189</td>\n",
       "      <td>1</td>\n",
       "      <td>146</td>\n",
       "      <td>94</td>\n",
       "      <td>777</td>\n",
       "      <td>2081</td>\n",
       "    </tr>\n",
       "    <tr>\n",
       "      <th>top</th>\n",
       "      <td>tt2815624</td>\n",
       "      <td>tvEpisode</td>\n",
       "      <td>Episode #1.1</td>\n",
       "      <td>Episode #1.1</td>\n",
       "      <td>0</td>\n",
       "      <td>\\N</td>\n",
       "      <td>\\N</td>\n",
       "      <td>\\N</td>\n",
       "      <td>\\N</td>\n",
       "    </tr>\n",
       "    <tr>\n",
       "      <th>freq</th>\n",
       "      <td>1</td>\n",
       "      <td>3423422</td>\n",
       "      <td>28867</td>\n",
       "      <td>28873</td>\n",
       "      <td>5007799</td>\n",
       "      <td>293222</td>\n",
       "      <td>4966825</td>\n",
       "      <td>3475620</td>\n",
       "      <td>409170</td>\n",
       "    </tr>\n",
       "  </tbody>\n",
       "</table>\n",
       "</div>"
      ],
      "text/plain": [
       "           tconst  titleType  primaryTitle originalTitle  isAdult startYear  \\\n",
       "count     5007799    5007799       5007793       5007793  5007799   5007799   \n",
       "unique    5007799         10       2597437       2611189        1       146   \n",
       "top     tt2815624  tvEpisode  Episode #1.1  Episode #1.1        0        \\N   \n",
       "freq            1    3423422         28867         28873  5007799    293222   \n",
       "\n",
       "        endYear runtimeMinutes   genres  \n",
       "count   5007799        5007799  5007799  \n",
       "unique       94            777     2081  \n",
       "top          \\N             \\N       \\N  \n",
       "freq    4966825        3475620   409170  "
      ]
     },
     "execution_count": 5,
     "metadata": {},
     "output_type": "execute_result"
    }
   ],
   "source": [
    "titleBasics.describe()"
   ]
  },
  {
   "cell_type": "code",
   "execution_count": 6,
   "metadata": {},
   "outputs": [
    {
     "data": {
      "text/html": [
       "<div>\n",
       "<style scoped>\n",
       "    .dataframe tbody tr th:only-of-type {\n",
       "        vertical-align: middle;\n",
       "    }\n",
       "\n",
       "    .dataframe tbody tr th {\n",
       "        vertical-align: top;\n",
       "    }\n",
       "\n",
       "    .dataframe thead th {\n",
       "        text-align: right;\n",
       "    }\n",
       "</style>\n",
       "<table border=\"1\" class=\"dataframe\">\n",
       "  <thead>\n",
       "    <tr style=\"text-align: right;\">\n",
       "      <th></th>\n",
       "      <th>averageRating</th>\n",
       "      <th>numVotes</th>\n",
       "    </tr>\n",
       "  </thead>\n",
       "  <tbody>\n",
       "    <tr>\n",
       "      <th>count</th>\n",
       "      <td>854061.000000</td>\n",
       "      <td>8.540610e+05</td>\n",
       "    </tr>\n",
       "    <tr>\n",
       "      <th>mean</th>\n",
       "      <td>6.931250</td>\n",
       "      <td>9.778279e+02</td>\n",
       "    </tr>\n",
       "    <tr>\n",
       "      <th>std</th>\n",
       "      <td>1.394631</td>\n",
       "      <td>1.537240e+04</td>\n",
       "    </tr>\n",
       "    <tr>\n",
       "      <th>min</th>\n",
       "      <td>1.000000</td>\n",
       "      <td>5.000000e+00</td>\n",
       "    </tr>\n",
       "    <tr>\n",
       "      <th>25%</th>\n",
       "      <td>6.200000</td>\n",
       "      <td>9.000000e+00</td>\n",
       "    </tr>\n",
       "    <tr>\n",
       "      <th>50%</th>\n",
       "      <td>7.100000</td>\n",
       "      <td>2.000000e+01</td>\n",
       "    </tr>\n",
       "    <tr>\n",
       "      <th>75%</th>\n",
       "      <td>7.900000</td>\n",
       "      <td>7.700000e+01</td>\n",
       "    </tr>\n",
       "    <tr>\n",
       "      <th>max</th>\n",
       "      <td>10.000000</td>\n",
       "      <td>1.976346e+06</td>\n",
       "    </tr>\n",
       "  </tbody>\n",
       "</table>\n",
       "</div>"
      ],
      "text/plain": [
       "       averageRating      numVotes\n",
       "count  854061.000000  8.540610e+05\n",
       "mean        6.931250  9.778279e+02\n",
       "std         1.394631  1.537240e+04\n",
       "min         1.000000  5.000000e+00\n",
       "25%         6.200000  9.000000e+00\n",
       "50%         7.100000  2.000000e+01\n",
       "75%         7.900000  7.700000e+01\n",
       "max        10.000000  1.976346e+06"
      ]
     },
     "execution_count": 6,
     "metadata": {},
     "output_type": "execute_result"
    }
   ],
   "source": [
    "titleRatings.describe()"
   ]
  },
  {
   "cell_type": "code",
   "execution_count": 7,
   "metadata": {},
   "outputs": [
    {
     "data": {
      "text/plain": [
       "4153738"
      ]
     },
     "execution_count": 7,
     "metadata": {},
     "output_type": "execute_result"
    }
   ],
   "source": [
    "len(titleBasics) - len(titleRatings)"
   ]
  },
  {
   "cell_type": "markdown",
   "metadata": {},
   "source": [
    "The titleBasics table has 4153738 more rows than the titleRatings table. \n",
    "\n",
    "Will need to look at removing NaN were appropriate and get a subset of data that contains only movies."
   ]
  },
  {
   "cell_type": "markdown",
   "metadata": {},
   "source": [
    "<hr>\n",
    "\n",
    "### Merge the titleBasics and titleRatings Data\n",
    "\n",
    "No need to rename columns as the column names are already consistent and have a way to join naturally using the `tconst` column.\n",
    "\n",
    "Use of the pandas database-style [`merge()`](http://pandas.pydata.org/pandas-docs/stable/merging.html#database-style-dataframe-joining-merging) function."
   ]
  },
  {
   "cell_type": "code",
   "execution_count": 8,
   "metadata": {},
   "outputs": [
    {
     "data": {
      "text/plain": [
       "836944"
      ]
     },
     "execution_count": 8,
     "metadata": {},
     "output_type": "execute_result"
    }
   ],
   "source": [
    "# returns an inner join of both dataframes\n",
    "title_data = pd.merge(titleBasics, titleRatings, how='inner', on=['tconst'])\n",
    "\n",
    "# Check the length of the resulting join\n",
    "len(title_data)"
   ]
  },
  {
   "cell_type": "code",
   "execution_count": 9,
   "metadata": {
    "scrolled": true
   },
   "outputs": [
    {
     "data": {
      "text/html": [
       "<div>\n",
       "<style scoped>\n",
       "    .dataframe tbody tr th:only-of-type {\n",
       "        vertical-align: middle;\n",
       "    }\n",
       "\n",
       "    .dataframe tbody tr th {\n",
       "        vertical-align: top;\n",
       "    }\n",
       "\n",
       "    .dataframe thead th {\n",
       "        text-align: right;\n",
       "    }\n",
       "</style>\n",
       "<table border=\"1\" class=\"dataframe\">\n",
       "  <thead>\n",
       "    <tr style=\"text-align: right;\">\n",
       "      <th></th>\n",
       "      <th>tconst</th>\n",
       "      <th>titleType</th>\n",
       "      <th>primaryTitle</th>\n",
       "      <th>originalTitle</th>\n",
       "      <th>isAdult</th>\n",
       "      <th>startYear</th>\n",
       "      <th>endYear</th>\n",
       "      <th>runtimeMinutes</th>\n",
       "      <th>genres</th>\n",
       "      <th>averageRating</th>\n",
       "      <th>numVotes</th>\n",
       "    </tr>\n",
       "  </thead>\n",
       "  <tbody>\n",
       "    <tr>\n",
       "      <th>0</th>\n",
       "      <td>tt0000001</td>\n",
       "      <td>short</td>\n",
       "      <td>Carmencita</td>\n",
       "      <td>Carmencita</td>\n",
       "      <td>0</td>\n",
       "      <td>1894</td>\n",
       "      <td>\\N</td>\n",
       "      <td>1</td>\n",
       "      <td>Documentary,Short</td>\n",
       "      <td>5.8</td>\n",
       "      <td>1393</td>\n",
       "    </tr>\n",
       "    <tr>\n",
       "      <th>1</th>\n",
       "      <td>tt0000002</td>\n",
       "      <td>short</td>\n",
       "      <td>Le clown et ses chiens</td>\n",
       "      <td>Le clown et ses chiens</td>\n",
       "      <td>0</td>\n",
       "      <td>1892</td>\n",
       "      <td>\\N</td>\n",
       "      <td>5</td>\n",
       "      <td>Animation,Short</td>\n",
       "      <td>6.5</td>\n",
       "      <td>163</td>\n",
       "    </tr>\n",
       "    <tr>\n",
       "      <th>2</th>\n",
       "      <td>tt0000003</td>\n",
       "      <td>short</td>\n",
       "      <td>Pauvre Pierrot</td>\n",
       "      <td>Pauvre Pierrot</td>\n",
       "      <td>0</td>\n",
       "      <td>1892</td>\n",
       "      <td>\\N</td>\n",
       "      <td>4</td>\n",
       "      <td>Animation,Comedy,Romance</td>\n",
       "      <td>6.6</td>\n",
       "      <td>980</td>\n",
       "    </tr>\n",
       "    <tr>\n",
       "      <th>3</th>\n",
       "      <td>tt0000004</td>\n",
       "      <td>short</td>\n",
       "      <td>Un bon bock</td>\n",
       "      <td>Un bon bock</td>\n",
       "      <td>0</td>\n",
       "      <td>1892</td>\n",
       "      <td>\\N</td>\n",
       "      <td>\\N</td>\n",
       "      <td>Animation,Short</td>\n",
       "      <td>6.4</td>\n",
       "      <td>98</td>\n",
       "    </tr>\n",
       "    <tr>\n",
       "      <th>4</th>\n",
       "      <td>tt0000005</td>\n",
       "      <td>short</td>\n",
       "      <td>Blacksmith Scene</td>\n",
       "      <td>Blacksmith Scene</td>\n",
       "      <td>0</td>\n",
       "      <td>1893</td>\n",
       "      <td>\\N</td>\n",
       "      <td>1</td>\n",
       "      <td>Short</td>\n",
       "      <td>6.2</td>\n",
       "      <td>1674</td>\n",
       "    </tr>\n",
       "  </tbody>\n",
       "</table>\n",
       "</div>"
      ],
      "text/plain": [
       "      tconst titleType            primaryTitle           originalTitle  \\\n",
       "0  tt0000001     short              Carmencita              Carmencita   \n",
       "1  tt0000002     short  Le clown et ses chiens  Le clown et ses chiens   \n",
       "2  tt0000003     short          Pauvre Pierrot          Pauvre Pierrot   \n",
       "3  tt0000004     short             Un bon bock             Un bon bock   \n",
       "4  tt0000005     short        Blacksmith Scene        Blacksmith Scene   \n",
       "\n",
       "  isAdult startYear endYear runtimeMinutes                    genres  \\\n",
       "0       0      1894      \\N              1         Documentary,Short   \n",
       "1       0      1892      \\N              5           Animation,Short   \n",
       "2       0      1892      \\N              4  Animation,Comedy,Romance   \n",
       "3       0      1892      \\N             \\N           Animation,Short   \n",
       "4       0      1893      \\N              1                     Short   \n",
       "\n",
       "   averageRating  numVotes  \n",
       "0            5.8      1393  \n",
       "1            6.5       163  \n",
       "2            6.6       980  \n",
       "3            6.4        98  \n",
       "4            6.2      1674  "
      ]
     },
     "execution_count": 9,
     "metadata": {},
     "output_type": "execute_result"
    }
   ],
   "source": [
    "title_data.head()"
   ]
  },
  {
   "cell_type": "code",
   "execution_count": 10,
   "metadata": {},
   "outputs": [
    {
     "data": {
      "text/plain": [
       "tconst            0\n",
       "titleType         0\n",
       "primaryTitle      0\n",
       "originalTitle     0\n",
       "isAdult           0\n",
       "startYear         0\n",
       "endYear           0\n",
       "runtimeMinutes    0\n",
       "genres            0\n",
       "averageRating     0\n",
       "numVotes          0\n",
       "dtype: int64"
      ]
     },
     "execution_count": 10,
     "metadata": {},
     "output_type": "execute_result"
    }
   ],
   "source": [
    "# check if any rows are missing data\n",
    "title_data.isnull().sum()"
   ]
  },
  {
   "cell_type": "markdown",
   "metadata": {},
   "source": [
    "<hr>\n",
    "\n",
    "### Explore titleType From titleBasics"
   ]
  },
  {
   "cell_type": "code",
   "execution_count": 11,
   "metadata": {},
   "outputs": [
    {
     "data": {
      "text/plain": [
       "tvEpisode       358073\n",
       "movie           217610\n",
       "short           102860\n",
       "tvSeries         58193\n",
       "tvMovie          42237\n",
       "video            32572\n",
       "videoGame         8558\n",
       "tvMiniSeries      8059\n",
       "tvSpecial         6362\n",
       "tvShort           2420\n",
       "Name: titleType, dtype: int64"
      ]
     },
     "execution_count": 11,
     "metadata": {},
     "output_type": "execute_result"
    }
   ],
   "source": [
    "title_data.titleType.value_counts()"
   ]
  },
  {
   "cell_type": "markdown",
   "metadata": {},
   "source": [
    "TitleTypes to include:\n",
    "- movie, tvMovie\n",
    "\n",
    "TitleTypes to consider (similar to movies, these have one runtime with no endYear value):\n",
    "- short, video, tvSpecial, tvShort"
   ]
  },
  {
   "cell_type": "code",
   "execution_count": 12,
   "metadata": {},
   "outputs": [],
   "source": [
    "title_data_titleType = title_data[title_data.titleType == 'short']"
   ]
  },
  {
   "cell_type": "code",
   "execution_count": 13,
   "metadata": {},
   "outputs": [
    {
     "data": {
      "text/html": [
       "<div>\n",
       "<style scoped>\n",
       "    .dataframe tbody tr th:only-of-type {\n",
       "        vertical-align: middle;\n",
       "    }\n",
       "\n",
       "    .dataframe tbody tr th {\n",
       "        vertical-align: top;\n",
       "    }\n",
       "\n",
       "    .dataframe thead th {\n",
       "        text-align: right;\n",
       "    }\n",
       "</style>\n",
       "<table border=\"1\" class=\"dataframe\">\n",
       "  <thead>\n",
       "    <tr style=\"text-align: right;\">\n",
       "      <th></th>\n",
       "      <th>tconst</th>\n",
       "      <th>titleType</th>\n",
       "      <th>primaryTitle</th>\n",
       "      <th>originalTitle</th>\n",
       "      <th>isAdult</th>\n",
       "      <th>startYear</th>\n",
       "      <th>endYear</th>\n",
       "      <th>runtimeMinutes</th>\n",
       "      <th>genres</th>\n",
       "      <th>averageRating</th>\n",
       "      <th>numVotes</th>\n",
       "    </tr>\n",
       "  </thead>\n",
       "  <tbody>\n",
       "    <tr>\n",
       "      <th>0</th>\n",
       "      <td>tt0000001</td>\n",
       "      <td>short</td>\n",
       "      <td>Carmencita</td>\n",
       "      <td>Carmencita</td>\n",
       "      <td>0</td>\n",
       "      <td>1894</td>\n",
       "      <td>\\N</td>\n",
       "      <td>1</td>\n",
       "      <td>Documentary,Short</td>\n",
       "      <td>5.8</td>\n",
       "      <td>1393</td>\n",
       "    </tr>\n",
       "    <tr>\n",
       "      <th>1</th>\n",
       "      <td>tt0000002</td>\n",
       "      <td>short</td>\n",
       "      <td>Le clown et ses chiens</td>\n",
       "      <td>Le clown et ses chiens</td>\n",
       "      <td>0</td>\n",
       "      <td>1892</td>\n",
       "      <td>\\N</td>\n",
       "      <td>5</td>\n",
       "      <td>Animation,Short</td>\n",
       "      <td>6.5</td>\n",
       "      <td>163</td>\n",
       "    </tr>\n",
       "    <tr>\n",
       "      <th>2</th>\n",
       "      <td>tt0000003</td>\n",
       "      <td>short</td>\n",
       "      <td>Pauvre Pierrot</td>\n",
       "      <td>Pauvre Pierrot</td>\n",
       "      <td>0</td>\n",
       "      <td>1892</td>\n",
       "      <td>\\N</td>\n",
       "      <td>4</td>\n",
       "      <td>Animation,Comedy,Romance</td>\n",
       "      <td>6.6</td>\n",
       "      <td>980</td>\n",
       "    </tr>\n",
       "    <tr>\n",
       "      <th>3</th>\n",
       "      <td>tt0000004</td>\n",
       "      <td>short</td>\n",
       "      <td>Un bon bock</td>\n",
       "      <td>Un bon bock</td>\n",
       "      <td>0</td>\n",
       "      <td>1892</td>\n",
       "      <td>\\N</td>\n",
       "      <td>\\N</td>\n",
       "      <td>Animation,Short</td>\n",
       "      <td>6.4</td>\n",
       "      <td>98</td>\n",
       "    </tr>\n",
       "    <tr>\n",
       "      <th>4</th>\n",
       "      <td>tt0000005</td>\n",
       "      <td>short</td>\n",
       "      <td>Blacksmith Scene</td>\n",
       "      <td>Blacksmith Scene</td>\n",
       "      <td>0</td>\n",
       "      <td>1893</td>\n",
       "      <td>\\N</td>\n",
       "      <td>1</td>\n",
       "      <td>Short</td>\n",
       "      <td>6.2</td>\n",
       "      <td>1674</td>\n",
       "    </tr>\n",
       "  </tbody>\n",
       "</table>\n",
       "</div>"
      ],
      "text/plain": [
       "      tconst titleType            primaryTitle           originalTitle  \\\n",
       "0  tt0000001     short              Carmencita              Carmencita   \n",
       "1  tt0000002     short  Le clown et ses chiens  Le clown et ses chiens   \n",
       "2  tt0000003     short          Pauvre Pierrot          Pauvre Pierrot   \n",
       "3  tt0000004     short             Un bon bock             Un bon bock   \n",
       "4  tt0000005     short        Blacksmith Scene        Blacksmith Scene   \n",
       "\n",
       "  isAdult startYear endYear runtimeMinutes                    genres  \\\n",
       "0       0      1894      \\N              1         Documentary,Short   \n",
       "1       0      1892      \\N              5           Animation,Short   \n",
       "2       0      1892      \\N              4  Animation,Comedy,Romance   \n",
       "3       0      1892      \\N             \\N           Animation,Short   \n",
       "4       0      1893      \\N              1                     Short   \n",
       "\n",
       "   averageRating  numVotes  \n",
       "0            5.8      1393  \n",
       "1            6.5       163  \n",
       "2            6.6       980  \n",
       "3            6.4        98  \n",
       "4            6.2      1674  "
      ]
     },
     "execution_count": 13,
     "metadata": {},
     "output_type": "execute_result"
    }
   ],
   "source": [
    "title_data_titleType.head()"
   ]
  },
  {
   "cell_type": "code",
   "execution_count": 14,
   "metadata": {},
   "outputs": [
    {
     "data": {
      "text/plain": [
       "\\N    102860\n",
       "Name: endYear, dtype: int64"
      ]
     },
     "execution_count": 14,
     "metadata": {},
     "output_type": "execute_result"
    }
   ],
   "source": [
    "title_data_titleType.endYear.value_counts()"
   ]
  },
  {
   "cell_type": "code",
   "execution_count": 15,
   "metadata": {
    "scrolled": true
   },
   "outputs": [
    {
     "data": {
      "text/plain": [
       "count     102860\n",
       "unique       138\n",
       "top         2012\n",
       "freq        5848\n",
       "Name: startYear, dtype: object"
      ]
     },
     "execution_count": 15,
     "metadata": {},
     "output_type": "execute_result"
    }
   ],
   "source": [
    "title_data_titleType.startYear.describe()"
   ]
  },
  {
   "cell_type": "markdown",
   "metadata": {},
   "source": [
    "Apply a mask that removes all title types that are not `movies` or `tvMovies`, then save the results to a new dataframe."
   ]
  },
  {
   "cell_type": "code",
   "execution_count": 16,
   "metadata": {},
   "outputs": [],
   "source": [
    "movie_data = title_data[(title_data.titleType == 'movie') | (title_data.titleType == 'tvMovie')]"
   ]
  },
  {
   "cell_type": "code",
   "execution_count": 17,
   "metadata": {},
   "outputs": [
    {
     "data": {
      "text/plain": [
       "259847"
      ]
     },
     "execution_count": 17,
     "metadata": {},
     "output_type": "execute_result"
    }
   ],
   "source": [
    "# Confirm the subset has fewer records than the original dataset\n",
    "len(movie_data) < len(title_data)\n",
    "len(movie_data)"
   ]
  },
  {
   "cell_type": "markdown",
   "metadata": {},
   "source": [
    "Next remove unused columns that contain all NaN or null values."
   ]
  },
  {
   "cell_type": "code",
   "execution_count": 18,
   "metadata": {},
   "outputs": [
    {
     "data": {
      "text/plain": [
       "\\N    259847\n",
       "Name: endYear, dtype: int64"
      ]
     },
     "execution_count": 18,
     "metadata": {},
     "output_type": "execute_result"
    }
   ],
   "source": [
    "# Confirm there are no endYear values\n",
    "movie_data.endYear.value_counts()"
   ]
  },
  {
   "cell_type": "code",
   "execution_count": 19,
   "metadata": {
    "scrolled": true
   },
   "outputs": [
    {
     "data": {
      "text/html": [
       "<div>\n",
       "<style scoped>\n",
       "    .dataframe tbody tr th:only-of-type {\n",
       "        vertical-align: middle;\n",
       "    }\n",
       "\n",
       "    .dataframe tbody tr th {\n",
       "        vertical-align: top;\n",
       "    }\n",
       "\n",
       "    .dataframe thead th {\n",
       "        text-align: right;\n",
       "    }\n",
       "</style>\n",
       "<table border=\"1\" class=\"dataframe\">\n",
       "  <thead>\n",
       "    <tr style=\"text-align: right;\">\n",
       "      <th></th>\n",
       "      <th>tconst</th>\n",
       "      <th>titleType</th>\n",
       "      <th>primaryTitle</th>\n",
       "      <th>originalTitle</th>\n",
       "      <th>startYear</th>\n",
       "      <th>runtimeMinutes</th>\n",
       "      <th>genres</th>\n",
       "      <th>averageRating</th>\n",
       "      <th>numVotes</th>\n",
       "    </tr>\n",
       "  </thead>\n",
       "  <tbody>\n",
       "    <tr>\n",
       "      <th>8</th>\n",
       "      <td>tt0000009</td>\n",
       "      <td>movie</td>\n",
       "      <td>Miss Jerry</td>\n",
       "      <td>Miss Jerry</td>\n",
       "      <td>1894</td>\n",
       "      <td>45</td>\n",
       "      <td>Romance</td>\n",
       "      <td>5.5</td>\n",
       "      <td>67</td>\n",
       "    </tr>\n",
       "    <tr>\n",
       "      <th>142</th>\n",
       "      <td>tt0000147</td>\n",
       "      <td>movie</td>\n",
       "      <td>The Corbett-Fitzsimmons Fight</td>\n",
       "      <td>The Corbett-Fitzsimmons Fight</td>\n",
       "      <td>1897</td>\n",
       "      <td>20</td>\n",
       "      <td>Documentary,News,Sport</td>\n",
       "      <td>5.2</td>\n",
       "      <td>259</td>\n",
       "    </tr>\n",
       "    <tr>\n",
       "      <th>235</th>\n",
       "      <td>tt0000335</td>\n",
       "      <td>movie</td>\n",
       "      <td>Soldiers of the Cross</td>\n",
       "      <td>Soldiers of the Cross</td>\n",
       "      <td>1900</td>\n",
       "      <td>\\N</td>\n",
       "      <td>Biography,Drama</td>\n",
       "      <td>6.2</td>\n",
       "      <td>35</td>\n",
       "    </tr>\n",
       "    <tr>\n",
       "      <th>337</th>\n",
       "      <td>tt0000574</td>\n",
       "      <td>movie</td>\n",
       "      <td>The Story of the Kelly Gang</td>\n",
       "      <td>The Story of the Kelly Gang</td>\n",
       "      <td>1906</td>\n",
       "      <td>70</td>\n",
       "      <td>Biography,Crime,Drama</td>\n",
       "      <td>6.3</td>\n",
       "      <td>464</td>\n",
       "    </tr>\n",
       "    <tr>\n",
       "      <th>353</th>\n",
       "      <td>tt0000615</td>\n",
       "      <td>movie</td>\n",
       "      <td>Robbery Under Arms</td>\n",
       "      <td>Robbery Under Arms</td>\n",
       "      <td>1907</td>\n",
       "      <td>\\N</td>\n",
       "      <td>Drama</td>\n",
       "      <td>5.1</td>\n",
       "      <td>13</td>\n",
       "    </tr>\n",
       "  </tbody>\n",
       "</table>\n",
       "</div>"
      ],
      "text/plain": [
       "        tconst titleType                   primaryTitle  \\\n",
       "8    tt0000009     movie                     Miss Jerry   \n",
       "142  tt0000147     movie  The Corbett-Fitzsimmons Fight   \n",
       "235  tt0000335     movie          Soldiers of the Cross   \n",
       "337  tt0000574     movie    The Story of the Kelly Gang   \n",
       "353  tt0000615     movie             Robbery Under Arms   \n",
       "\n",
       "                     originalTitle startYear runtimeMinutes  \\\n",
       "8                       Miss Jerry      1894             45   \n",
       "142  The Corbett-Fitzsimmons Fight      1897             20   \n",
       "235          Soldiers of the Cross      1900             \\N   \n",
       "337    The Story of the Kelly Gang      1906             70   \n",
       "353             Robbery Under Arms      1907             \\N   \n",
       "\n",
       "                     genres  averageRating  numVotes  \n",
       "8                   Romance            5.5        67  \n",
       "142  Documentary,News,Sport            5.2       259  \n",
       "235         Biography,Drama            6.2        35  \n",
       "337   Biography,Crime,Drama            6.3       464  \n",
       "353                   Drama            5.1        13  "
      ]
     },
     "execution_count": 19,
     "metadata": {},
     "output_type": "execute_result"
    }
   ],
   "source": [
    "# drop unused columns\n",
    "movie_data = movie_data.drop(['isAdult', 'endYear'], axis=1)\n",
    "\n",
    "movie_data.head()"
   ]
  },
  {
   "cell_type": "markdown",
   "metadata": {},
   "source": [
    "<hr>\n",
    "\n",
    "### Explore Rows with Null Data\n",
    "\n",
    "Next will explore rows with null data and will need to decide if they should be included in the final dataset."
   ]
  },
  {
   "cell_type": "code",
   "execution_count": 20,
   "metadata": {},
   "outputs": [
    {
     "data": {
      "text/plain": [
       "tconst            0\n",
       "titleType         0\n",
       "primaryTitle      0\n",
       "originalTitle     0\n",
       "startYear         0\n",
       "runtimeMinutes    0\n",
       "genres            0\n",
       "averageRating     0\n",
       "numVotes          0\n",
       "dtype: int64"
      ]
     },
     "execution_count": 20,
     "metadata": {},
     "output_type": "execute_result"
    }
   ],
   "source": [
    "# check if any rows are missing data\n",
    "movie_data.isnull().sum()"
   ]
  },
  {
   "cell_type": "code",
   "execution_count": 21,
   "metadata": {},
   "outputs": [
    {
     "data": {
      "text/plain": [
       "array(['45', '20', '\\\\N', '70', '120', '60', '53', '50', '48', '100',\n",
       "       '68', '43', '46', '85', '55', '121', '69', '56', '54', '90', '150',\n",
       "       '51', '64', '96', '49', '61', '300', '41', '99', '110', '88', '52',\n",
       "       '86', '72', '78', '75', '148', '59', '63', '112', '1428', '84',\n",
       "       '65', '105', '81', '199', '109', '74', '80', '82', '67', '195',\n",
       "       '440', '73', '77', '62', '71', '22', '57', '421', '40', '360',\n",
       "       '180', '58', '163', '93', '95', '116', '66', '125', '97', '138',\n",
       "       '350', '374', '87', '108', '16', '83', '136', '94', '13', '117',\n",
       "       '92', '76', '418', '330', '111', '489', '122', '115', '207', '166',\n",
       "       '47', '106', '145', '34', '167', '103', '91', '157', '104', '107',\n",
       "       '248', '79', '235', '184', '89', '102', '131', '114', '380', '119',\n",
       "       '98', '200', '242', '128', '143', '137', '101', '183', '210',\n",
       "       '133', '130', '135', '273', '124', '141', '153', '132', '129',\n",
       "       '123', '144', '155', '151', '170', '140', '113', '359', '118',\n",
       "       '126', '179', '230', '168', '250', '240', '142', '139', '185',\n",
       "       '156', '127', '178', '215', '149', '165', '223', '147', '266',\n",
       "       '217', '172', '158', '226', '164', '17', '194', '220', '216',\n",
       "       '225', '227', '213', '231', '218', '246', '243', '281', '310',\n",
       "       '208', '228', '229', '212', '236', '306', '257', '245', '197',\n",
       "       '255', '219', '323', '305', '328', '269', '176', '232', '258',\n",
       "       '256', '303', '290', '308', '10', '224', '294', '252', '268',\n",
       "       '260', '204', '298', '299', '264', '160', '211', '302', '238',\n",
       "       '263', '320', '265', '205', '154', '237', '285', '146', '293',\n",
       "       '267', '247', '186', '241', '289', '177', '283', '134', '18',\n",
       "       '270', '9', '251', '278', '196', '279', '261', '275', '280', '36',\n",
       "       '244', '189', '169', '295', '201', '221', '23', '38', '173', '192',\n",
       "       '171', '193', '287', '161', '152', '175', '174', '30', '315',\n",
       "       '159', '182', '162', '181', '188', '209', '32', '190', '24', '33',\n",
       "       '191', '37', '234', '288', '25', '35', '427', '202', '14', '203',\n",
       "       '253', '206', '27', '11', '239', '187', '44', '632', '198', '317',\n",
       "       '763', '311', '442', '28', '540', '325', '12', '233', '15', '222',\n",
       "       '437', '416', '367', '566', '410', '284', '282', '357', '873',\n",
       "       '358', '335', '26', '3', '214', '42', '8', '501', '420', '271',\n",
       "       '450', '316', '39', '29', '21', '277', '7', '700', '31', '480',\n",
       "       '344', '659', '465', '1100', '630', '321', '485', '5', '382',\n",
       "       '385', '510', '729', '340', '254', '345', '286', '580', '425',\n",
       "       '312', '1320', '5220', '600', '348', '336', '2880', '366', '301',\n",
       "       '6', '249', '551', '2', '402', '715', '960', '400', '1', '414',\n",
       "       '520', '1115', '375', '272', '19', '1440', '4', '840', '1452',\n",
       "       '274', '356', '680', '364', '398', '353', '324', '724', '9000',\n",
       "       '411', '14400', '1584', '291', '338', '476', '319', '341', '500',\n",
       "       '334', '467', '720', '607', '379', '304', '435', '5760', '4320',\n",
       "       '259', '495'], dtype=object)"
      ]
     },
     "execution_count": 21,
     "metadata": {},
     "output_type": "execute_result"
    }
   ],
   "source": [
    "movie_data.runtimeMinutes.unique()"
   ]
  },
  {
   "cell_type": "code",
   "execution_count": 22,
   "metadata": {},
   "outputs": [
    {
     "data": {
      "text/plain": [
       "array(['1894', '1897', '1900', '1906', '1907', '1908', '1909', '1910',\n",
       "       '1912', '1911', '1913', '1919', '1914', '1917', '1915', '1936',\n",
       "       '1916', '1925', '1918', '1920', '1921', '1924', '1923', '1922',\n",
       "       '1927', '1929', '1926', '1993', '1935', '1928', '1942', '1933',\n",
       "       '1930', '1931', '1939', '1932', '1950', '1938', '1951', '1934',\n",
       "       '1983', '1946', '1937', '1940', '1941', '1952', '1970', '1957',\n",
       "       '1943', '1945', '1948', '1944', '2001', '1949', '1953', '1947',\n",
       "       '1954', '1965', '1973', '1962', '1958', '1955', '1956', '1961',\n",
       "       '1964', '1960', '1959', '1967', '1963', '1972', '1971', '1969',\n",
       "       '1968', '1966', '1976', '1990', '1977', '1979', '1974', '1981',\n",
       "       '1988', '1978', '1989', '1975', '1986', '2016', '1985', '1980',\n",
       "       '1984', '1982', '1987', '1991', '2005', '1995', '1998', '1992',\n",
       "       '2002', '1994', '2004', '1996', '1997', '2017', '2000', '1999',\n",
       "       '2009', '2008', '2003', '2007', '1905', '2006', '2010', '1902',\n",
       "       '1899', '2013', '2011', '1904', '1898', '1903', '1901', '2012',\n",
       "       '2015', '2014', '2018', '\\\\N'], dtype=object)"
      ]
     },
     "execution_count": 22,
     "metadata": {},
     "output_type": "execute_result"
    }
   ],
   "source": [
    "movie_data.startYear.unique()"
   ]
  },
  {
   "cell_type": "code",
   "execution_count": 41,
   "metadata": {},
   "outputs": [],
   "source": [
    "# replace values with '\\N' with the pandas 'NaN'\n",
    "# source: https://stackoverflow.com/a/49406417\n",
    "movie_data = movie_data.replace({'\\\\N': np.nan})"
   ]
  },
  {
   "cell_type": "code",
   "execution_count": 42,
   "metadata": {},
   "outputs": [
    {
     "data": {
      "text/plain": [
       "tconst                0\n",
       "titleType             0\n",
       "primaryTitle          0\n",
       "originalTitle         2\n",
       "startYear             0\n",
       "runtimeMinutes    36683\n",
       "genres            17420\n",
       "averageRating         0\n",
       "numVotes              0\n",
       "dtype: int64"
      ]
     },
     "execution_count": 42,
     "metadata": {},
     "output_type": "execute_result"
    }
   ],
   "source": [
    "# check what rows are missing data\n",
    "movie_data.isnull().sum()"
   ]
  },
  {
   "cell_type": "markdown",
   "metadata": {},
   "source": [
    "To convert the `startYear` type from an Object to an Int datatype, we need to fill all NaN rows with zero. This allows for the columns to be used in calculations and charts.\n",
    "\n",
    "**Decision:** Since there are only 4 rows that do not have a start year, we will remove all '0' values from this column."
   ]
  },
  {
   "cell_type": "code",
   "execution_count": 33,
   "metadata": {},
   "outputs": [],
   "source": [
    "# fill NaN rows with 0\n",
    "movie_data['startYear'] = movie_data.startYear.fillna(0)\n",
    "\n",
    "# convert the column to datatype of int\n",
    "movie_data['startYear'] = movie_data.startYear.astype(int)"
   ]
  },
  {
   "cell_type": "code",
   "execution_count": 50,
   "metadata": {},
   "outputs": [],
   "source": [
    "# drop the rows that contain a startYear of 0\n",
    "# source: https://chrisalbon.com/python/data_wrangling/pandas_dropping_column_and_rows/\n",
    "movie_data = movie_data[movie_data.startYear != 0]"
   ]
  },
  {
   "cell_type": "markdown",
   "metadata": {},
   "source": [
    "<hr>\n",
    "\n",
    "### Determine What Timeframe to Include\n",
    "\n",
    "Why limit the timeframe? Movies release before a certain period of time are not being reviewed as they are release, where many of the reviews may come from viewers watching the movie(s) years after the initial release. For example, the data from IMDB would not have reviews from the year 1894, the same year the movie was released. "
   ]
  },
  {
   "cell_type": "code",
   "execution_count": 51,
   "metadata": {},
   "outputs": [
    {
     "data": {
      "text/plain": [
       "<matplotlib.axes._subplots.AxesSubplot at 0x2105bbcb710>"
      ]
     },
     "execution_count": 51,
     "metadata": {},
     "output_type": "execute_result"
    },
    {
     "data": {
      "image/png": "[encoded data removed]",
      "text/plain": [
       "<matplotlib.figure.Figure at 0x2105bbcb8d0>"
      ]
     },
     "metadata": {},
     "output_type": "display_data"
    }
   ],
   "source": [
    "movie_data.plot.scatter(x=\"startYear\", y=\"averageRating\")"
   ]
  },
  {
   "cell_type": "code",
   "execution_count": 53,
   "metadata": {},
   "outputs": [
    {
     "data": {
      "text/plain": [
       "<matplotlib.axes._subplots.AxesSubplot at 0x21039b5fe10>"
      ]
     },
     "execution_count": 53,
     "metadata": {},
     "output_type": "execute_result"
    },
    {
     "data": {
      "image/png": "[encoded data removed]",
      "text/plain": [
       "<matplotlib.figure.Figure at 0x21039b1b7f0>"
      ]
     },
     "metadata": {},
     "output_type": "display_data"
    }
   ],
   "source": [
    "sns.boxplot(y=movie_data.averageRating)"
   ]
  },
  {
   "cell_type": "code",
   "execution_count": 54,
   "metadata": {},
   "outputs": [
    {
     "data": {
      "text/plain": [
       "<matplotlib.axes._subplots.AxesSubplot at 0x2103c7a0278>"
      ]
     },
     "execution_count": 54,
     "metadata": {},
     "output_type": "execute_result"
    },
    {
     "data": {
      "image/png": "[encoded data removed]",
      "text/plain": [
       "<matplotlib.figure.Figure at 0x2103c77f7b8>"
      ]
     },
     "metadata": {},
     "output_type": "display_data"
    }
   ],
   "source": [
    "movie_data.averageRating.plot(kind='box')"
   ]
  },
  {
   "cell_type": "markdown",
   "metadata": {},
   "source": [
    "Calculate the thresholds for the outliers."
   ]
  },
  {
   "cell_type": "code",
   "execution_count": 55,
   "metadata": {},
   "outputs": [
    {
     "data": {
      "text/plain": [
       "2.9499999999999997"
      ]
     },
     "metadata": {},
     "output_type": "display_data"
    },
    {
     "data": {
      "text/plain": [
       "9.75"
      ]
     },
     "metadata": {},
     "output_type": "display_data"
    }
   ],
   "source": [
    "q1 = movie_data.averageRating.quantile(0.25)  # first quartile\n",
    "q3 = movie_data.averageRating.quantile(0.75)  # third quartile\n",
    "IQR = q3 - q1  # IQR\n",
    "lower_threshold = q1 - 1.5 * IQR  # lower threshold\n",
    "upper_threshold = q3 + 1.5 * IQR  # upper threshold\n",
    "display(lower_threshold, upper_threshold)"
   ]
  },
  {
   "cell_type": "markdown",
   "metadata": {},
   "source": [
    "Pivot table that looks at the average movie rating for each year."
   ]
  },
  {
   "cell_type": "code",
   "execution_count": 59,
   "metadata": {},
   "outputs": [
    {
     "data": {
      "text/plain": [
       "<matplotlib.axes._subplots.AxesSubplot at 0x21056540630>"
      ]
     },
     "execution_count": 59,
     "metadata": {},
     "output_type": "execute_result"
    },
    {
     "data": {
      "image/png": "[encoded data removed]",
      "text/plain": [
       "<matplotlib.figure.Figure at 0x2103c7a7588>"
      ]
     },
     "metadata": {},
     "output_type": "display_data"
    }
   ],
   "source": [
    "movie_pivot = movie_data.pivot_table(index=\"startYear\", \n",
    "                       values=[\"averageRating\"], \n",
    "                       aggfunc=pd.np.median)\n",
    "\n",
    "movie_pivot.plot(kind='line')"
   ]
  },
  {
   "cell_type": "markdown",
   "metadata": {},
   "source": [
    "It appears the general trend is that average movie ratings increases each year sometime after the year 2000. Should explore reasons why. Could be movie saturation?"
   ]
  },
  {
   "cell_type": "markdown",
   "metadata": {},
   "source": [
    "<hr>\n",
    "\n",
    "### Determine What Genres to Include"
   ]
  },
  {
   "cell_type": "markdown",
   "metadata": {},
   "source": [
    "<hr>\n",
    "\n",
    "### Determine the Target Average Rating"
   ]
  },
  {
   "cell_type": "markdown",
   "metadata": {},
   "source": [
    "<hr>\n",
    "\n",
    "## Model the Data"
   ]
  },
  {
   "cell_type": "markdown",
   "metadata": {},
   "source": [
    "<hr>\n",
    "\n",
    "## Visualize the Results"
   ]
  },
  {
   "cell_type": "code",
   "execution_count": null,
   "metadata": {},
   "outputs": [],
   "source": []
  }
 ],
 "metadata": {
  "kernelspec": {
   "display_name": "Python 3",
   "language": "python",
   "name": "python3"
  },
  "language_info": {
   "codemirror_mode": {
    "name": "ipython",
    "version": 3
   },
   "file_extension": ".py",
   "mimetype": "text/x-python",
   "name": "python",
   "nbconvert_exporter": "python",
   "pygments_lexer": "ipython3",
   "version": "3.6.4"
  }
 },
 "nbformat": 4,
 "nbformat_minor": 2
}
