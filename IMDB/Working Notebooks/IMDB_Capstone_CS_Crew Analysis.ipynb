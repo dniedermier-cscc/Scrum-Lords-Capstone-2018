{
 "cells": [
  {
   "cell_type": "markdown",
   "metadata": {},
   "source": [
    "# Table of Contents\n",
    "\n",
    "* [Data Sources](#Data-Sources)\n",
    "* [Gather the Data](#Gather-the-Data)\n",
    "    * [Merge Dataframes / Tables](#Merge-Dataframes-/-Tables)\n",
    "* [Explore the Data](#Explore-the-Data)\n",
    "* [Model the Data](#Model-the-Data)\n",
    "* [Visualize the Results](#Visualize-the-Results)\n",
    "\n",
    "\n",
    "<hr>\n",
    "\n",
    "## Data Sources\n",
    "\n",
    "Description of the IMDB data: https://www.imdb.com/interfaces/\n",
    "\n",
    "IMDB Data Sources: https://datasets.imdbws.com/\n",
    "\n",
    "<hr>"
   ]
  },
  {
   "cell_type": "markdown",
   "metadata": {},
   "source": [
    "## Gather the Data"
   ]
  },
  {
   "cell_type": "code",
   "execution_count": 1,
   "metadata": {},
   "outputs": [],
   "source": [
    "%matplotlib inline"
   ]
  },
  {
   "cell_type": "code",
   "execution_count": 2,
   "metadata": {},
   "outputs": [],
   "source": [
    "import numpy as np\n",
    "import pandas as pd\n",
    "import seaborn as sns\n",
    "import matplotlib.pyplot as plt\n",
    "import statsmodels.api as sm"
   ]
  },
  {
   "cell_type": "code",
   "execution_count": 3,
   "metadata": {},
   "outputs": [],
   "source": [
    "sns.set(rc={'figure.figsize': (12, 10), \"lines.markeredgewidth\": 0.5 })"
   ]
  },
  {
   "cell_type": "code",
   "execution_count": 4,
   "metadata": {},
   "outputs": [
    {
     "name": "stdout",
     "output_type": "stream",
     "text": [
      "Reading name.basics.tsv\n",
      "Complete - 1 of 3\n",
      "      nconst      primaryName birthYear deathYear  \\\n",
      "0  nm0000001     Fred Astaire      1899      1987   \n",
      "1  nm0000002    Lauren Bacall      1924      2014   \n",
      "2  nm0000003  Brigitte Bardot      1934        \\N   \n",
      "3  nm0000004     John Belushi      1949      1982   \n",
      "4  nm0000005   Ingmar Bergman      1918      2007   \n",
      "\n",
      "                primaryProfession                           knownForTitles  \n",
      "0  soundtrack,actor,miscellaneous  tt0043044,tt0072308,tt0050419,tt0045537  \n",
      "1              actress,soundtrack  tt0037382,tt0038355,tt0071877,tt0117057  \n",
      "2     actress,soundtrack,producer  tt0054452,tt0057345,tt0049189,tt0059956  \n",
      "3         actor,writer,soundtrack  tt0072562,tt0080455,tt0078723,tt0077975  \n",
      "4           writer,director,actor  tt0083922,tt0050986,tt0050976,tt0060827  \n",
      "Reading title.principals.tsv\n",
      "Complete - 2 of 3\n",
      "      tconst  ordering     nconst         category                      job  \\\n",
      "0  tt0000001         1  nm1588970             self                       \\N   \n",
      "1  tt0000001         2  nm0005690         director                       \\N   \n",
      "2  tt0000001         3  nm0374658  cinematographer  director of photography   \n",
      "3  tt0000002         1  nm0721526         director                       \\N   \n",
      "4  tt0000002         2  nm1335271         composer                       \\N   \n",
      "\n",
      "    characters  \n",
      "0  [\"Herself\"]  \n",
      "1           \\N  \n",
      "2           \\N  \n",
      "3           \\N  \n",
      "4           \\N  \n",
      "Reading title.ratings.tsv\n",
      "CompletitleRatingste - 3 of 3\n",
      "      tconst  averageRating  numVotes\n",
      "0  tt0000001            5.8      1393\n",
      "1  tt0000002            6.5       163\n",
      "2  tt0000003            6.6       980\n",
      "3  tt0000004            6.4        98\n",
      "4  tt0000005            6.2      1674\n",
      "\n",
      "-----all data loaded -----\n"
     ]
    }
   ],
   "source": [
    "#--------------------------------------------------------\n",
    "#--  Input File 1:  name.basics.tsv\n",
    "#--------------------------------------------------------\n",
    "print('Reading name.basics.tsv')\n",
    "nameBasics = pd.read_csv(\"../Data/name.basics.tsv/data.tsv\", sep='\\t')\n",
    "print('Complete - 1 of 3')\n",
    "print(nameBasics.head(5))\n",
    "\n",
    "#--------------------------------------------------------\n",
    "#--  Input File 6:  title.principals.tsv\n",
    "#--------------------------------------------------------\n",
    "print('Reading title.principals.tsv')\n",
    "titlePrincipals = pd.read_csv(\"../Data/title.principals.tsv/data.tsv\", sep='\\t')\n",
    "print('Complete - 2 of 3')\n",
    "print(titlePrincipals.head(5))\n",
    "\n",
    "#--------------------------------------------------------\n",
    "#--  Input File 7:  title.ratings.tsv\n",
    "#--------------------------------------------------------\n",
    "print('Reading title.ratings.tsv')\n",
    "titleRatings = pd.read_csv(\"../Data/title.ratings.tsv/data.tsv\", sep='\\t',dtype={\"tconst\": object, \"averageRating\": float, \"numVotes\": int})\n",
    "print('CompletitleRatingste - 3 of 3')\n",
    "print(titleRatings.head(5))\n",
    "\n",
    "print('\\n-----all data loaded -----')"
   ]
  },
  {
   "cell_type": "markdown",
   "metadata": {},
   "source": [
    "### Dataset Descriptions\n",
    "\n",
    "**name.basics.tsv.gz** - Contains the following information for names:\n",
    "\n",
    "- nconst (string) – alphanumeric unique identifier of the name/person\n",
    "- primaryName (string) – name by which the person is most often credited\n",
    "- birthYear – in YYYY format\n",
    "- deathYear – in YYYY format if applicable, else '\\N'\n",
    "- primaryProfession (array of strings) – the top-3 professions of the person\n",
    "- knownForTitles (array of tconsts) – titles the person is known for\n",
    "\n",
    "\n",
    "**title.principals.tsv** - Contains the principal cast/crew for titles:\n",
    "\n",
    "- tconst (string) – alphanumeric unique identifier of the title\n",
    "- ordering (integer) – a number to uniquely identify rows for a given titleId\n",
    "- nconst (string) – alphanumeric unique identifier of the name/person\n",
    "- category (string) – the category of job that person was in\n",
    "- job (string) – the specific job title if applicable, else '\\N'\n",
    "- characters (string) – the name of the character played if applicable, else '\\N' "
   ]
  },
  {
   "cell_type": "markdown",
   "metadata": {},
   "source": [
    "### Merge Dataframes / Tables"
   ]
  },
  {
   "cell_type": "code",
   "execution_count": 5,
   "metadata": {},
   "outputs": [
    {
     "name": "stdout",
     "output_type": "stream",
     "text": [
      "29289842\n"
     ]
    },
    {
     "data": {
      "text/html": [
       "<div>\n",
       "<style scoped>\n",
       "    .dataframe tbody tr th:only-of-type {\n",
       "        vertical-align: middle;\n",
       "    }\n",
       "\n",
       "    .dataframe tbody tr th {\n",
       "        vertical-align: top;\n",
       "    }\n",
       "\n",
       "    .dataframe thead th {\n",
       "        text-align: right;\n",
       "    }\n",
       "</style>\n",
       "<table border=\"1\" class=\"dataframe\">\n",
       "  <thead>\n",
       "    <tr style=\"text-align: right;\">\n",
       "      <th></th>\n",
       "      <th>tconst</th>\n",
       "      <th>ordering</th>\n",
       "      <th>nconst</th>\n",
       "      <th>category</th>\n",
       "      <th>job</th>\n",
       "      <th>characters</th>\n",
       "    </tr>\n",
       "  </thead>\n",
       "  <tbody>\n",
       "    <tr>\n",
       "      <th>0</th>\n",
       "      <td>tt0000001</td>\n",
       "      <td>1</td>\n",
       "      <td>nm1588970</td>\n",
       "      <td>self</td>\n",
       "      <td>\\N</td>\n",
       "      <td>[\"Herself\"]</td>\n",
       "    </tr>\n",
       "    <tr>\n",
       "      <th>1</th>\n",
       "      <td>tt0000001</td>\n",
       "      <td>2</td>\n",
       "      <td>nm0005690</td>\n",
       "      <td>director</td>\n",
       "      <td>\\N</td>\n",
       "      <td>\\N</td>\n",
       "    </tr>\n",
       "    <tr>\n",
       "      <th>2</th>\n",
       "      <td>tt0000001</td>\n",
       "      <td>3</td>\n",
       "      <td>nm0374658</td>\n",
       "      <td>cinematographer</td>\n",
       "      <td>director of photography</td>\n",
       "      <td>\\N</td>\n",
       "    </tr>\n",
       "    <tr>\n",
       "      <th>3</th>\n",
       "      <td>tt0000002</td>\n",
       "      <td>1</td>\n",
       "      <td>nm0721526</td>\n",
       "      <td>director</td>\n",
       "      <td>\\N</td>\n",
       "      <td>\\N</td>\n",
       "    </tr>\n",
       "    <tr>\n",
       "      <th>4</th>\n",
       "      <td>tt0000002</td>\n",
       "      <td>2</td>\n",
       "      <td>nm1335271</td>\n",
       "      <td>composer</td>\n",
       "      <td>\\N</td>\n",
       "      <td>\\N</td>\n",
       "    </tr>\n",
       "  </tbody>\n",
       "</table>\n",
       "</div>"
      ],
      "text/plain": [
       "      tconst  ordering     nconst         category                      job  \\\n",
       "0  tt0000001         1  nm1588970             self                       \\N   \n",
       "1  tt0000001         2  nm0005690         director                       \\N   \n",
       "2  tt0000001         3  nm0374658  cinematographer  director of photography   \n",
       "3  tt0000002         1  nm0721526         director                       \\N   \n",
       "4  tt0000002         2  nm1335271         composer                       \\N   \n",
       "\n",
       "    characters  \n",
       "0  [\"Herself\"]  \n",
       "1           \\N  \n",
       "2           \\N  \n",
       "3           \\N  \n",
       "4           \\N  "
      ]
     },
     "execution_count": 5,
     "metadata": {},
     "output_type": "execute_result"
    }
   ],
   "source": [
    "print(len(titlePrincipals))\n",
    "titlePrincipals.head(5)"
   ]
  },
  {
   "cell_type": "code",
   "execution_count": null,
   "metadata": {},
   "outputs": [],
   "source": [
    "# drop unused columns\n",
    "titlePrincipals = titlePrincipals.drop(['knownForTitles'], axis=1)"
   ]
  },
  {
   "cell_type": "code",
   "execution_count": 21,
   "metadata": {},
   "outputs": [],
   "source": [
    "# replace values with '\\N' with the pandas 'NaN'\n",
    "# source: https://stackoverflow.com/a/49406417\n",
    "titlePrincipals = titlePrincipals.replace({'\\\\N': np.nan})"
   ]
  },
  {
   "cell_type": "code",
   "execution_count": 6,
   "metadata": {},
   "outputs": [
    {
     "name": "stdout",
     "output_type": "stream",
     "text": [
      "8749442\n"
     ]
    },
    {
     "data": {
      "text/html": [
       "<div>\n",
       "<style scoped>\n",
       "    .dataframe tbody tr th:only-of-type {\n",
       "        vertical-align: middle;\n",
       "    }\n",
       "\n",
       "    .dataframe tbody tr th {\n",
       "        vertical-align: top;\n",
       "    }\n",
       "\n",
       "    .dataframe thead th {\n",
       "        text-align: right;\n",
       "    }\n",
       "</style>\n",
       "<table border=\"1\" class=\"dataframe\">\n",
       "  <thead>\n",
       "    <tr style=\"text-align: right;\">\n",
       "      <th></th>\n",
       "      <th>nconst</th>\n",
       "      <th>primaryName</th>\n",
       "      <th>birthYear</th>\n",
       "      <th>deathYear</th>\n",
       "      <th>primaryProfession</th>\n",
       "      <th>knownForTitles</th>\n",
       "    </tr>\n",
       "  </thead>\n",
       "  <tbody>\n",
       "    <tr>\n",
       "      <th>0</th>\n",
       "      <td>nm0000001</td>\n",
       "      <td>Fred Astaire</td>\n",
       "      <td>1899</td>\n",
       "      <td>1987</td>\n",
       "      <td>soundtrack,actor,miscellaneous</td>\n",
       "      <td>tt0043044,tt0072308,tt0050419,tt0045537</td>\n",
       "    </tr>\n",
       "    <tr>\n",
       "      <th>1</th>\n",
       "      <td>nm0000002</td>\n",
       "      <td>Lauren Bacall</td>\n",
       "      <td>1924</td>\n",
       "      <td>2014</td>\n",
       "      <td>actress,soundtrack</td>\n",
       "      <td>tt0037382,tt0038355,tt0071877,tt0117057</td>\n",
       "    </tr>\n",
       "    <tr>\n",
       "      <th>2</th>\n",
       "      <td>nm0000003</td>\n",
       "      <td>Brigitte Bardot</td>\n",
       "      <td>1934</td>\n",
       "      <td>\\N</td>\n",
       "      <td>actress,soundtrack,producer</td>\n",
       "      <td>tt0054452,tt0057345,tt0049189,tt0059956</td>\n",
       "    </tr>\n",
       "    <tr>\n",
       "      <th>3</th>\n",
       "      <td>nm0000004</td>\n",
       "      <td>John Belushi</td>\n",
       "      <td>1949</td>\n",
       "      <td>1982</td>\n",
       "      <td>actor,writer,soundtrack</td>\n",
       "      <td>tt0072562,tt0080455,tt0078723,tt0077975</td>\n",
       "    </tr>\n",
       "    <tr>\n",
       "      <th>4</th>\n",
       "      <td>nm0000005</td>\n",
       "      <td>Ingmar Bergman</td>\n",
       "      <td>1918</td>\n",
       "      <td>2007</td>\n",
       "      <td>writer,director,actor</td>\n",
       "      <td>tt0083922,tt0050986,tt0050976,tt0060827</td>\n",
       "    </tr>\n",
       "  </tbody>\n",
       "</table>\n",
       "</div>"
      ],
      "text/plain": [
       "      nconst      primaryName birthYear deathYear  \\\n",
       "0  nm0000001     Fred Astaire      1899      1987   \n",
       "1  nm0000002    Lauren Bacall      1924      2014   \n",
       "2  nm0000003  Brigitte Bardot      1934        \\N   \n",
       "3  nm0000004     John Belushi      1949      1982   \n",
       "4  nm0000005   Ingmar Bergman      1918      2007   \n",
       "\n",
       "                primaryProfession                           knownForTitles  \n",
       "0  soundtrack,actor,miscellaneous  tt0043044,tt0072308,tt0050419,tt0045537  \n",
       "1              actress,soundtrack  tt0037382,tt0038355,tt0071877,tt0117057  \n",
       "2     actress,soundtrack,producer  tt0054452,tt0057345,tt0049189,tt0059956  \n",
       "3         actor,writer,soundtrack  tt0072562,tt0080455,tt0078723,tt0077975  \n",
       "4           writer,director,actor  tt0083922,tt0050986,tt0050976,tt0060827  "
      ]
     },
     "execution_count": 6,
     "metadata": {},
     "output_type": "execute_result"
    }
   ],
   "source": [
    "print(len(nameBasics))\n",
    "nameBasics.head()"
   ]
  },
  {
   "cell_type": "code",
   "execution_count": 33,
   "metadata": {},
   "outputs": [],
   "source": [
    "# replace values with '\\N' with the pandas 'NaN'\n",
    "nameBasics_subset = nameBasics.replace({'\\\\N': np.nan})"
   ]
  },
  {
   "cell_type": "code",
   "execution_count": 7,
   "metadata": {},
   "outputs": [
    {
     "name": "stdout",
     "output_type": "stream",
     "text": [
      "29289842\n"
     ]
    },
    {
     "data": {
      "text/html": [
       "<div>\n",
       "<style scoped>\n",
       "    .dataframe tbody tr th:only-of-type {\n",
       "        vertical-align: middle;\n",
       "    }\n",
       "\n",
       "    .dataframe tbody tr th {\n",
       "        vertical-align: top;\n",
       "    }\n",
       "\n",
       "    .dataframe thead th {\n",
       "        text-align: right;\n",
       "    }\n",
       "</style>\n",
       "<table border=\"1\" class=\"dataframe\">\n",
       "  <thead>\n",
       "    <tr style=\"text-align: right;\">\n",
       "      <th></th>\n",
       "      <th>tconst</th>\n",
       "      <th>ordering</th>\n",
       "      <th>nconst</th>\n",
       "      <th>category</th>\n",
       "      <th>job</th>\n",
       "      <th>characters</th>\n",
       "      <th>primaryName</th>\n",
       "      <th>birthYear</th>\n",
       "      <th>deathYear</th>\n",
       "      <th>primaryProfession</th>\n",
       "      <th>knownForTitles</th>\n",
       "    </tr>\n",
       "  </thead>\n",
       "  <tbody>\n",
       "    <tr>\n",
       "      <th>0</th>\n",
       "      <td>tt0000001</td>\n",
       "      <td>1</td>\n",
       "      <td>nm1588970</td>\n",
       "      <td>self</td>\n",
       "      <td>\\N</td>\n",
       "      <td>[\"Herself\"]</td>\n",
       "      <td>Carmencita</td>\n",
       "      <td>\\N</td>\n",
       "      <td>\\N</td>\n",
       "      <td>soundtrack</td>\n",
       "      <td>tt0057728,tt0000001</td>\n",
       "    </tr>\n",
       "    <tr>\n",
       "      <th>1</th>\n",
       "      <td>tt0000001</td>\n",
       "      <td>2</td>\n",
       "      <td>nm0005690</td>\n",
       "      <td>director</td>\n",
       "      <td>\\N</td>\n",
       "      <td>\\N</td>\n",
       "      <td>William K.L. Dickson</td>\n",
       "      <td>1860</td>\n",
       "      <td>1935</td>\n",
       "      <td>cinematographer,director,producer</td>\n",
       "      <td>tt0219560,tt1428455,tt6687694,tt1496763</td>\n",
       "    </tr>\n",
       "    <tr>\n",
       "      <th>2</th>\n",
       "      <td>tt0000001</td>\n",
       "      <td>3</td>\n",
       "      <td>nm0374658</td>\n",
       "      <td>cinematographer</td>\n",
       "      <td>director of photography</td>\n",
       "      <td>\\N</td>\n",
       "      <td>William Heise</td>\n",
       "      <td>\\N</td>\n",
       "      <td>1910</td>\n",
       "      <td>cinematographer,director,producer</td>\n",
       "      <td>tt0241393,tt0285863,tt0241715,tt0229665</td>\n",
       "    </tr>\n",
       "    <tr>\n",
       "      <th>3</th>\n",
       "      <td>tt0000002</td>\n",
       "      <td>1</td>\n",
       "      <td>nm0721526</td>\n",
       "      <td>director</td>\n",
       "      <td>\\N</td>\n",
       "      <td>\\N</td>\n",
       "      <td>Émile Reynaud</td>\n",
       "      <td>1844</td>\n",
       "      <td>1918</td>\n",
       "      <td>director</td>\n",
       "      <td>tt2184231,tt0000003,tt2184201,tt0413219</td>\n",
       "    </tr>\n",
       "    <tr>\n",
       "      <th>4</th>\n",
       "      <td>tt0000002</td>\n",
       "      <td>2</td>\n",
       "      <td>nm1335271</td>\n",
       "      <td>composer</td>\n",
       "      <td>\\N</td>\n",
       "      <td>\\N</td>\n",
       "      <td>Gaston Paulin</td>\n",
       "      <td>1839</td>\n",
       "      <td>1903</td>\n",
       "      <td>composer</td>\n",
       "      <td>tt0000003,tt0000004,tt0000002</td>\n",
       "    </tr>\n",
       "  </tbody>\n",
       "</table>\n",
       "</div>"
      ],
      "text/plain": [
       "      tconst  ordering     nconst         category                      job  \\\n",
       "0  tt0000001         1  nm1588970             self                       \\N   \n",
       "1  tt0000001         2  nm0005690         director                       \\N   \n",
       "2  tt0000001         3  nm0374658  cinematographer  director of photography   \n",
       "3  tt0000002         1  nm0721526         director                       \\N   \n",
       "4  tt0000002         2  nm1335271         composer                       \\N   \n",
       "\n",
       "    characters           primaryName birthYear deathYear  \\\n",
       "0  [\"Herself\"]            Carmencita        \\N        \\N   \n",
       "1           \\N  William K.L. Dickson      1860      1935   \n",
       "2           \\N         William Heise        \\N      1910   \n",
       "3           \\N         Émile Reynaud      1844      1918   \n",
       "4           \\N         Gaston Paulin      1839      1903   \n",
       "\n",
       "                   primaryProfession                           knownForTitles  \n",
       "0                         soundtrack                      tt0057728,tt0000001  \n",
       "1  cinematographer,director,producer  tt0219560,tt1428455,tt6687694,tt1496763  \n",
       "2  cinematographer,director,producer  tt0241393,tt0285863,tt0241715,tt0229665  \n",
       "3                           director  tt2184231,tt0000003,tt2184201,tt0413219  \n",
       "4                           composer            tt0000003,tt0000004,tt0000002  "
      ]
     },
     "execution_count": 7,
     "metadata": {},
     "output_type": "execute_result"
    }
   ],
   "source": [
    "# returns a left join of both dataframes\n",
    "principal_data = pd.merge(titlePrincipals, nameBasics, how='left', on=['nconst'])\n",
    "\n",
    "# Check the length of the resulting join\n",
    "print(len(principal_data))\n",
    "\n",
    "principal_data.head()"
   ]
  },
  {
   "cell_type": "markdown",
   "metadata": {},
   "source": [
    "<hr> \n",
    "\n",
    "## Explore the Data"
   ]
  },
  {
   "cell_type": "markdown",
   "metadata": {},
   "source": [
    "**Decision Needed:** Do we limit the analysis of cast and crew to just movies? Or do we take into account their experience on other projects such as television?\n",
    "\n",
    "**Decision Needed:** Do we remove cast/crew that are no longer living? The goal is to decide who to hire."
   ]
  },
  {
   "cell_type": "code",
   "execution_count": null,
   "metadata": {},
   "outputs": [],
   "source": [
    "# drop unused columns\n",
    "principal_data = principal_data.drop(['knownForTitles', 'birthYear'], axis=1)"
   ]
  },
  {
   "cell_type": "code",
   "execution_count": 19,
   "metadata": {},
   "outputs": [
    {
     "data": {
      "text/plain": [
       "29289842"
      ]
     },
     "execution_count": 19,
     "metadata": {},
     "output_type": "execute_result"
    }
   ],
   "source": [
    "len(principal_data)"
   ]
  },
  {
   "cell_type": "code",
   "execution_count": 21,
   "metadata": {},
   "outputs": [],
   "source": [
    "# replace values with '\\N' with the pandas 'NaN'\n",
    "# source: https://stackoverflow.com/a/49406417\n",
    "principal_data = principal_data.replace({'\\\\N': np.nan})"
   ]
  },
  {
   "cell_type": "code",
   "execution_count": 22,
   "metadata": {},
   "outputs": [
    {
     "data": {
      "text/plain": [
       "array([nan, '1935', '1910', '1918', '1903', '1931', '1933', '1896',\n",
       "       '1936', '1951', '1928', '1940', '1948', '1939', '1970', '1963',\n",
       "       '1954', '1907', '1943', '1921', '1941', '1911', '1920', '1925',\n",
       "       '1938', '1905', '1859', '1944', '1930', '1956', '1926', '1917',\n",
       "       '1924', '1915', '1968', '1957', '1950', '1959', '1955', '1932',\n",
       "       '1958', '1703', '1870', '1953', '1832', '1929', '1780', '1923',\n",
       "       '1945', '1971', '1616', '1961', '1937', '1984', '1981', '1916',\n",
       "       '1947', '1949', '1976', '1962', '1942', '1969', '1902', '1946',\n",
       "       '1979', '1919', '1898', '1745', '1901', '1882', '1966', '1890',\n",
       "       '1899', '1913', '1885', '1934', '1973', '1909', '1974', '1960',\n",
       "       '1912', '1852', '1863', '1965', '1991', '1922', '1964', '1895',\n",
       "       '1985', '1883', '1892', '1980', '1977', '1967', '1927', '1893',\n",
       "       '1865', '1877', '1873', '1972', '1983', '1914', '1986', '1975',\n",
       "       '1875', '1880', '1952', '1837', '1999', '1851', '1908', '1673',\n",
       "       '1889', '1849', '1850', '1894', '1993', '1900', '1860', '1978',\n",
       "       '1982', '1864', '1824', '1995', '1862', '1988', '1794', '1872',\n",
       "       '1987', '1884', '1989', '1625', '1868', '1881', '1990', '2003',\n",
       "       '0019', '1861', '1321', '1843', '1897', '1879', '1887', '2004',\n",
       "       '1904', '2009', '1805', '2000', '1998', '1857', '1774', '1888',\n",
       "       '1994', '1681', '1830', '2010', '1992', '2002', '1855', '1763',\n",
       "       '1996', '1816', '1876', '1779', '1715', '1906', '1848', '2006',\n",
       "       '1827', '1871', '1997', '1822', '1891', '2007', '1754', '1878',\n",
       "       '2001', '1811', '1854', '2013', '2018', '2005', '1856', '1731',\n",
       "       '2012', '1781', '1842', '1853', '2017', '1556', '1844', '1527',\n",
       "       '1846', '2011', '1375', '1874', '1834', '2008', '2014', '2015',\n",
       "       '1828', '1635', '1799', '1814', '2016', '1886', '1836', '1796',\n",
       "       '1806', '1609', '1826', '1866', '1831', '1566', '1817', '1637',\n",
       "       '1841', '1674', '1793', '1801', '1784', '1838', '1764', '1869',\n",
       "       '1829', '1732', '1471', '1809', '1757', '1576', '1595', '1803',\n",
       "       '1858', '1693', '1778', '0044', '1643', '1695', '1815', '1632',\n",
       "       '1593', '1795', '1845', '1798', '1684', '1400', '1549', '1634',\n",
       "       '1818', '1707', '1645', '1761', '1723', '1812', '1797', '1792',\n",
       "       '1553', '1699', '1630', '1835', '1755', '1273', '1750', '1571',\n",
       "       '1867', '1821', '1543', '1584', '1580', '1631', '1611', '1739',\n",
       "       '1720', '1771', '1847', '1725', '1594', '1688', '1773', '1807',\n",
       "       '1785', '1782', '1791', '1669', '1729', '1724', '1820', '1698',\n",
       "       '1839', '1361', '1604', '1567', '1638', '1679', '1823', '1813',\n",
       "       '1618', '1696', '1676', '1767', '1179', '1768', '1701', '1613',\n",
       "       '1819', '1787', '1804', '1623', '1585', '1800', '1592', '0840',\n",
       "       '1728', '1540', '1713', '1733', '1788', '1744', '1610', '1521',\n",
       "       '1786', '1722', '1668', '1664', '1741', '1706', '1519', '1641',\n",
       "       '1640', '1840'], dtype=object)"
      ]
     },
     "execution_count": 22,
     "metadata": {},
     "output_type": "execute_result"
    }
   ],
   "source": [
    "principal_data.deathYear.unique()"
   ]
  },
  {
   "cell_type": "code",
   "execution_count": 25,
   "metadata": {},
   "outputs": [
    {
     "data": {
      "text/plain": [
       "tconst                      0\n",
       "ordering                    0\n",
       "nconst                      0\n",
       "category                    0\n",
       "job                  24437520\n",
       "characters           14176704\n",
       "primaryName              7753\n",
       "deathYear            25671366\n",
       "primaryProfession     1495813\n",
       "dtype: int64"
      ]
     },
     "execution_count": 25,
     "metadata": {},
     "output_type": "execute_result"
    }
   ],
   "source": [
    "# check what rows are missing data\n",
    "principal_data.isnull().sum()"
   ]
  },
  {
   "cell_type": "code",
   "execution_count": null,
   "metadata": {},
   "outputs": [],
   "source": [
    "principal_data = principal_data.drop([principal_data.deathYear.isnull() == False])"
   ]
  },
  {
   "cell_type": "code",
   "execution_count": 23,
   "metadata": {},
   "outputs": [
    {
     "data": {
      "text/html": [
       "<div>\n",
       "<style scoped>\n",
       "    .dataframe tbody tr th:only-of-type {\n",
       "        vertical-align: middle;\n",
       "    }\n",
       "\n",
       "    .dataframe tbody tr th {\n",
       "        vertical-align: top;\n",
       "    }\n",
       "\n",
       "    .dataframe thead th {\n",
       "        text-align: right;\n",
       "    }\n",
       "</style>\n",
       "<table border=\"1\" class=\"dataframe\">\n",
       "  <thead>\n",
       "    <tr style=\"text-align: right;\">\n",
       "      <th></th>\n",
       "      <th>tconst</th>\n",
       "      <th>ordering</th>\n",
       "      <th>nconst</th>\n",
       "      <th>category</th>\n",
       "      <th>job</th>\n",
       "      <th>characters</th>\n",
       "      <th>primaryName</th>\n",
       "      <th>deathYear</th>\n",
       "      <th>primaryProfession</th>\n",
       "    </tr>\n",
       "  </thead>\n",
       "  <tbody>\n",
       "    <tr>\n",
       "      <th>0</th>\n",
       "      <td>tt0000001</td>\n",
       "      <td>1</td>\n",
       "      <td>nm1588970</td>\n",
       "      <td>self</td>\n",
       "      <td>NaN</td>\n",
       "      <td>[\"Herself\"]</td>\n",
       "      <td>Carmencita</td>\n",
       "      <td>NaN</td>\n",
       "      <td>soundtrack</td>\n",
       "    </tr>\n",
       "    <tr>\n",
       "      <th>1</th>\n",
       "      <td>tt0000001</td>\n",
       "      <td>2</td>\n",
       "      <td>nm0005690</td>\n",
       "      <td>director</td>\n",
       "      <td>NaN</td>\n",
       "      <td>NaN</td>\n",
       "      <td>William K.L. Dickson</td>\n",
       "      <td>1935</td>\n",
       "      <td>cinematographer,director,producer</td>\n",
       "    </tr>\n",
       "    <tr>\n",
       "      <th>2</th>\n",
       "      <td>tt0000001</td>\n",
       "      <td>3</td>\n",
       "      <td>nm0374658</td>\n",
       "      <td>cinematographer</td>\n",
       "      <td>director of photography</td>\n",
       "      <td>NaN</td>\n",
       "      <td>William Heise</td>\n",
       "      <td>1910</td>\n",
       "      <td>cinematographer,director,producer</td>\n",
       "    </tr>\n",
       "    <tr>\n",
       "      <th>3</th>\n",
       "      <td>tt0000002</td>\n",
       "      <td>1</td>\n",
       "      <td>nm0721526</td>\n",
       "      <td>director</td>\n",
       "      <td>NaN</td>\n",
       "      <td>NaN</td>\n",
       "      <td>Émile Reynaud</td>\n",
       "      <td>1918</td>\n",
       "      <td>director</td>\n",
       "    </tr>\n",
       "    <tr>\n",
       "      <th>4</th>\n",
       "      <td>tt0000002</td>\n",
       "      <td>2</td>\n",
       "      <td>nm1335271</td>\n",
       "      <td>composer</td>\n",
       "      <td>NaN</td>\n",
       "      <td>NaN</td>\n",
       "      <td>Gaston Paulin</td>\n",
       "      <td>1903</td>\n",
       "      <td>composer</td>\n",
       "    </tr>\n",
       "  </tbody>\n",
       "</table>\n",
       "</div>"
      ],
      "text/plain": [
       "      tconst  ordering     nconst         category                      job  \\\n",
       "0  tt0000001         1  nm1588970             self                      NaN   \n",
       "1  tt0000001         2  nm0005690         director                      NaN   \n",
       "2  tt0000001         3  nm0374658  cinematographer  director of photography   \n",
       "3  tt0000002         1  nm0721526         director                      NaN   \n",
       "4  tt0000002         2  nm1335271         composer                      NaN   \n",
       "\n",
       "    characters           primaryName deathYear  \\\n",
       "0  [\"Herself\"]            Carmencita       NaN   \n",
       "1          NaN  William K.L. Dickson      1935   \n",
       "2          NaN         William Heise      1910   \n",
       "3          NaN         Émile Reynaud      1918   \n",
       "4          NaN         Gaston Paulin      1903   \n",
       "\n",
       "                   primaryProfession  \n",
       "0                         soundtrack  \n",
       "1  cinematographer,director,producer  \n",
       "2  cinematographer,director,producer  \n",
       "3                           director  \n",
       "4                           composer  "
      ]
     },
     "execution_count": 23,
     "metadata": {},
     "output_type": "execute_result"
    }
   ],
   "source": [
    "principal_data.head()"
   ]
  },
  {
   "cell_type": "code",
   "execution_count": null,
   "metadata": {},
   "outputs": [],
   "source": [
    "# only keep the row if the person is still living\n",
    "principal_data = principal_data.drop([principal_data.deathYear != '\\\\N'])"
   ]
  },
  {
   "cell_type": "code",
   "execution_count": null,
   "metadata": {},
   "outputs": [],
   "source": [
    "principal_data.to_csv(\"../Data/principals_data.csv\", sep='\\t', index=False)"
   ]
  },
  {
   "cell_type": "code",
   "execution_count": 7,
   "metadata": {},
   "outputs": [
    {
     "name": "stdout",
     "output_type": "stream",
     "text": [
      "29289842\n"
     ]
    },
    {
     "data": {
      "text/html": [
       "<div>\n",
       "<style scoped>\n",
       "    .dataframe tbody tr th:only-of-type {\n",
       "        vertical-align: middle;\n",
       "    }\n",
       "\n",
       "    .dataframe tbody tr th {\n",
       "        vertical-align: top;\n",
       "    }\n",
       "\n",
       "    .dataframe thead th {\n",
       "        text-align: right;\n",
       "    }\n",
       "</style>\n",
       "<table border=\"1\" class=\"dataframe\">\n",
       "  <thead>\n",
       "    <tr style=\"text-align: right;\">\n",
       "      <th></th>\n",
       "      <th>tconst</th>\n",
       "      <th>ordering</th>\n",
       "      <th>nconst</th>\n",
       "      <th>category</th>\n",
       "      <th>job</th>\n",
       "      <th>characters</th>\n",
       "      <th>averageRating</th>\n",
       "      <th>numVotes</th>\n",
       "    </tr>\n",
       "  </thead>\n",
       "  <tbody>\n",
       "    <tr>\n",
       "      <th>0</th>\n",
       "      <td>tt0000001</td>\n",
       "      <td>1</td>\n",
       "      <td>nm1588970</td>\n",
       "      <td>self</td>\n",
       "      <td>\\N</td>\n",
       "      <td>[\"Herself\"]</td>\n",
       "      <td>5.8</td>\n",
       "      <td>1393.0</td>\n",
       "    </tr>\n",
       "    <tr>\n",
       "      <th>1</th>\n",
       "      <td>tt0000001</td>\n",
       "      <td>2</td>\n",
       "      <td>nm0005690</td>\n",
       "      <td>director</td>\n",
       "      <td>\\N</td>\n",
       "      <td>\\N</td>\n",
       "      <td>5.8</td>\n",
       "      <td>1393.0</td>\n",
       "    </tr>\n",
       "    <tr>\n",
       "      <th>2</th>\n",
       "      <td>tt0000001</td>\n",
       "      <td>3</td>\n",
       "      <td>nm0374658</td>\n",
       "      <td>cinematographer</td>\n",
       "      <td>director of photography</td>\n",
       "      <td>\\N</td>\n",
       "      <td>5.8</td>\n",
       "      <td>1393.0</td>\n",
       "    </tr>\n",
       "    <tr>\n",
       "      <th>3</th>\n",
       "      <td>tt0000002</td>\n",
       "      <td>1</td>\n",
       "      <td>nm0721526</td>\n",
       "      <td>director</td>\n",
       "      <td>\\N</td>\n",
       "      <td>\\N</td>\n",
       "      <td>6.5</td>\n",
       "      <td>163.0</td>\n",
       "    </tr>\n",
       "    <tr>\n",
       "      <th>4</th>\n",
       "      <td>tt0000002</td>\n",
       "      <td>2</td>\n",
       "      <td>nm1335271</td>\n",
       "      <td>composer</td>\n",
       "      <td>\\N</td>\n",
       "      <td>\\N</td>\n",
       "      <td>6.5</td>\n",
       "      <td>163.0</td>\n",
       "    </tr>\n",
       "  </tbody>\n",
       "</table>\n",
       "</div>"
      ],
      "text/plain": [
       "      tconst  ordering     nconst         category                      job  \\\n",
       "0  tt0000001         1  nm1588970             self                       \\N   \n",
       "1  tt0000001         2  nm0005690         director                       \\N   \n",
       "2  tt0000001         3  nm0374658  cinematographer  director of photography   \n",
       "3  tt0000002         1  nm0721526         director                       \\N   \n",
       "4  tt0000002         2  nm1335271         composer                       \\N   \n",
       "\n",
       "    characters  averageRating  numVotes  \n",
       "0  [\"Herself\"]            5.8    1393.0  \n",
       "1           \\N            5.8    1393.0  \n",
       "2           \\N            5.8    1393.0  \n",
       "3           \\N            6.5     163.0  \n",
       "4           \\N            6.5     163.0  "
      ]
     },
     "execution_count": 7,
     "metadata": {},
     "output_type": "execute_result"
    }
   ],
   "source": [
    "# returns a left join of both dataframes\n",
    "#principal_data = pd.merge(principal_data, titleRatings, how='left', on=['tconst'])\n",
    "\n",
    "# Check the length of the resulting join\n",
    "print(len(principal_data))\n",
    "\n",
    "principal_data.head()"
   ]
  },
  {
   "cell_type": "code",
   "execution_count": 10,
   "metadata": {},
   "outputs": [],
   "source": [
    "principals = principal_data.copy()"
   ]
  },
  {
   "cell_type": "markdown",
   "metadata": {},
   "source": [
    "<hr> \n",
    "\n",
    "## Model the Data"
   ]
  },
  {
   "cell_type": "markdown",
   "metadata": {},
   "source": [
    "<hr> \n",
    "\n",
    "## Visualize the Results"
   ]
  },
  {
   "cell_type": "code",
   "execution_count": null,
   "metadata": {},
   "outputs": [],
   "source": []
  }
 ],
 "metadata": {
  "kernelspec": {
   "display_name": "Python 3",
   "language": "python",
   "name": "python3"
  },
  "language_info": {
   "codemirror_mode": {
    "name": "ipython",
    "version": 3
   },
   "file_extension": ".py",
   "mimetype": "text/x-python",
   "name": "python",
   "nbconvert_exporter": "python",
   "pygments_lexer": "ipython3",
   "version": "3.6.4"
  }
 },
 "nbformat": 4,
 "nbformat_minor": 2
}
