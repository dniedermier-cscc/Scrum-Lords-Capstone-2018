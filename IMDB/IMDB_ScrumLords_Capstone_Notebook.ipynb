{
 "cells": [
  {
   "cell_type": "markdown",
   "metadata": {},
   "source": [
    "# Table of Contents\n",
    "\n",
    "* [Data Sources](#Data-Sources)\n",
    "* [Gather the Data](#Gather-the-Data)"
   ]
  },
  {
   "cell_type": "markdown",
   "metadata": {},
   "source": [
    "## Data Sources\n",
    "\n",
    "Description of the IMDB data: https://www.imdb.com/interfaces/\n",
    "\n",
    "IMDB Data Sources: https://datasets.imdbws.com/"
   ]
  },
  {
   "cell_type": "markdown",
   "metadata": {},
   "source": [
    "## Gather the Data"
   ]
  },
  {
   "cell_type": "code",
   "execution_count": null,
   "metadata": {},
   "outputs": [],
   "source": [
    "test1"
   ]
  },
  {
   "cell_type": "code",
   "execution_count": 2,
   "metadata": {},
   "outputs": [
    {
     "name": "stdout",
     "output_type": "stream",
     "text": [
      "Reading title.basics.tsv\n",
      "      tconst titleType            primaryTitle           originalTitle  \\\n",
      "0  tt0000001     short              Carmencita              Carmencita   \n",
      "1  tt0000002     short  Le clown et ses chiens  Le clown et ses chiens   \n",
      "2  tt0000003     short          Pauvre Pierrot          Pauvre Pierrot   \n",
      "3  tt0000004     short             Un bon bock             Un bon bock   \n",
      "4  tt0000005     short        Blacksmith Scene        Blacksmith Scene   \n",
      "\n",
      "  isAdult startYear endYear runtimeMinutes                    genres  \n",
      "0       0      1894      \\N              1         Documentary,Short  \n",
      "1       0      1892      \\N              5           Animation,Short  \n",
      "2       0      1892      \\N              4  Animation,Comedy,Romance  \n",
      "3       0      1892      \\N             \\N           Animation,Short  \n",
      "4       0      1893      \\N              1                     Short  \n",
      "Reading title.ratings.tsv\n",
      "Complete - 7 of 7\n",
      "      tconst  averageRating  numVotes\n",
      "0  tt0000001            5.8      1389\n",
      "1  tt0000002            6.5       163\n",
      "2  tt0000003            6.6       978\n",
      "3  tt0000004            6.4        98\n",
      "4  tt0000005            6.2      1671\n",
      "\n",
      "-----all data loaded -----\n"
     ]
    }
   ],
   "source": [
    "import pandas as pd\n",
    "\n",
    "#===============================================================================\n",
    "#     READ INPUT DATA\n",
    "#===============================================================================\n",
    "\n",
    "#--------------------------------------------------------\n",
    "#--  Input File 1:  name.basics.tsv\n",
    "#--------------------------------------------------------\n",
    "#print('Reading name.basics.tsv')\n",
    "#nameBasics = pd.read_csv(\"./Data/name.basics.tsv/data.tsv\", sep='\\t')\n",
    "#print('Complete - 1 of 7')\n",
    "#print(nameBasics.head(5))\n",
    "\n",
    "#--------------------------------------------------------\n",
    "#--  Input File 2:  title.akas.tsv\n",
    "#--------------------------------------------------------\n",
    "#print('Reading title.akas.tsv')\n",
    "#titleAkas = pd.read_csv(\"./Data/title.akas.tsv/data.tsv\", sep='\\t',dtype={\"titleId\": object, \"ordering\": object, \"title\": object, \"region\": object, \"language\": object, \"types\": object, \"attributes\": object, \"isOriginalTitle\": object})\n",
    "#print('Complete - 2 of 7')\n",
    "#print(titleAkas.head(5))\n",
    "\n",
    "#--------------------------------------------------------\n",
    "#--  Input File 3:  title.basics.tsv\n",
    "#--------------------------------------------------------\n",
    "print('Reading title.basics.tsv')\n",
    "titleBasics = pd.read_csv(\"./Data/title.basics.tsv/data.tsv\", sep='\\t',dtype={\"tconst\": object, \"titleType\": object, \"primaryTitle\": object, \"originalTitle\": object, \"isAdult\": object, \"startYear\": object})\n",
    "#print('Complete - 3 of 7')\n",
    "titleBasics = titleBasics[titleBasics.isAdult == \"0\"]\n",
    "print(titleBasics.head(5))\n",
    "\n",
    "#--------------------------------------------------------\n",
    "#--  Input File 4:  title.crew.tsv\n",
    "#--------------------------------------------------------\n",
    "#print('Reading title.crew.tsv')\n",
    "#titleCrew = pd.read_csv(\"./Data/title.crew.tsv/data.tsv\", sep='\\t')\n",
    "#print('Complete - 4 of 7')\n",
    "#print(titleCrew.head(5))\n",
    "\n",
    "#--------------------------------------------------------\n",
    "#--  Input File 5:  title.episode.tsv\n",
    "#--------------------------------------------------------\n",
    "#print('Reading title.episode.tsv')\n",
    "#titleEpisode = pd.read_csv(\"./Data/title.episode.tsv/data.tsv\", sep='\\t')\n",
    "#print('Complete - 5 of 7')\n",
    "#print(titleEpisode.head(5))\n",
    "\n",
    "#--------------------------------------------------------\n",
    "#--  Input File 6:  title.principals.tsv\n",
    "#--------------------------------------------------------\n",
    "#print('Reading title.principals.tsv')\n",
    "#titlePrincipals = pd.read_csv(\"./Data/title.principals.tsv/data.tsv\", sep='\\t')\n",
    "#print('Complete - 6 of 7')\n",
    "#print(titlePrincipals.head(5))\n",
    "\n",
    "#--------------------------------------------------------\n",
    "#--  Input File 7:  title.ratings.tsv\n",
    "#--------------------------------------------------------\n",
    "print('Reading title.ratings.tsv')\n",
    "titleRatings = pd.read_csv(\"./Data/title.ratings.tsv/data.tsv\", sep='\\t',dtype={\"tconst\": object, \"averageRating\": float, \"numVotes\": int})\n",
    "print('Complete - 7 of 7')\n",
    "print(titleRatings.head(5))\n",
    "\n",
    "print('\\n-----all data loaded -----')"
   ]
  },
  {
   "cell_type": "code",
   "execution_count": null,
   "metadata": {},
   "outputs": [],
   "source": []
  }
 ],
 "metadata": {
  "kernelspec": {
   "display_name": "Python 3",
   "language": "python",
   "name": "python3"
  },
  "language_info": {
   "codemirror_mode": {
    "name": "ipython",
    "version": 3
   },
   "file_extension": ".py",
   "mimetype": "text/x-python",
   "name": "python",
   "nbconvert_exporter": "python",
   "pygments_lexer": "ipython3",
   "version": "3.6.4"
  }
 },
 "nbformat": 4,
 "nbformat_minor": 2
}
